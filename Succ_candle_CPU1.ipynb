{
  "nbformat": 4,
  "nbformat_minor": 0,
  "metadata": {
    "colab": {
      "provenance": []
    },
    "kernelspec": {
      "name": "python3",
      "display_name": "Python 3"
    },
    "language_info": {
      "name": "python"
    }
  },
  "cells": [
    {
      "cell_type": "code",
      "execution_count": null,
      "metadata": {
        "id": "kCPDpFIjo-GY"
      },
      "outputs": [],
      "source": []
    },
    {
      "cell_type": "code",
      "source": [],
      "metadata": {
        "id": "VZloYCw1pXBX"
      },
      "execution_count": null,
      "outputs": []
    },
    {
      "cell_type": "markdown",
      "source": [
        "https://github.com/ToluClassics/candle-tutorial"
      ],
      "metadata": {
        "id": "ne07pzUm9kfb"
      }
    },
    {
      "cell_type": "code",
      "source": [
        "%cd /content"
      ],
      "metadata": {
        "colab": {
          "base_uri": "https://localhost:8080/"
        },
        "id": "tnntq8ZWpXEM",
        "outputId": "a618c82e-cbbe-4474-fa95-ca25a19927b4"
      },
      "execution_count": 12,
      "outputs": [
        {
          "output_type": "stream",
          "name": "stdout",
          "text": [
            "/content\n"
          ]
        }
      ]
    },
    {
      "cell_type": "code",
      "source": [
        "!git clone https://github.com/huggingface/candle.git"
      ],
      "metadata": {
        "colab": {
          "base_uri": "https://localhost:8080/"
        },
        "id": "ARtLto_WpXG8",
        "outputId": "d9b9f69c-1066-44b4-b9c2-af387d379372"
      },
      "execution_count": 13,
      "outputs": [
        {
          "output_type": "stream",
          "name": "stdout",
          "text": [
            "Cloning into 'candle'...\n",
            "remote: Enumerating objects: 22268, done.\u001b[K\n",
            "remote: Counting objects: 100% (291/291), done.\u001b[K\n",
            "remote: Compressing objects: 100% (189/189), done.\u001b[K\n",
            "remote: Total 22268 (delta 211), reused 102 (delta 102), pack-reused 21977 (from 3)\u001b[K\n",
            "Receiving objects: 100% (22268/22268), 12.47 MiB | 18.72 MiB/s, done.\n",
            "Resolving deltas: 100% (15150/15150), done.\n"
          ]
        }
      ]
    },
    {
      "cell_type": "code",
      "source": [
        "\n",
        "!curl --proto '=https' --tlsv1.2 -sSf https://sh.rustup.rs | sh -s -- -y\n",
        "\n",
        "import os\n",
        "os.environ['PATH'] += \":/root/.cargo/bin\"\n",
        "\n",
        "!cargo --version"
      ],
      "metadata": {
        "colab": {
          "base_uri": "https://localhost:8080/"
        },
        "id": "QwkycuTIpY2O",
        "outputId": "e9be284d-f4de-4a4c-d588-4d8fe74ceb5d"
      },
      "execution_count": 14,
      "outputs": [
        {
          "output_type": "stream",
          "name": "stdout",
          "text": [
            "\u001b[1minfo:\u001b[0m downloading installer\n",
            "\u001b[0m\u001b[1m\u001b[33mwarn: \u001b[0mIt looks like you have an existing rustup settings file at:\n",
            "\u001b[0m\u001b[1m\u001b[33mwarn: \u001b[0m/root/.rustup/settings.toml\n",
            "\u001b[0m\u001b[1m\u001b[33mwarn: \u001b[0mRustup will install the default toolchain as specified in the settings file,\n",
            "\u001b[0m\u001b[1m\u001b[33mwarn: \u001b[0minstead of the one inferred from the default host triple.\n",
            "\u001b[0m\u001b[1minfo: \u001b[0mprofile set to 'default'\n",
            "\u001b[0m\u001b[1minfo: \u001b[0mdefault host triple is x86_64-unknown-linux-gnu\n",
            "\u001b[0m\u001b[1m\u001b[33mwarn: \u001b[0mUpdating existing toolchain, profile choice will be ignored\n",
            "\u001b[0m\u001b[1minfo: \u001b[0msyncing channel updates for 'stable-x86_64-unknown-linux-gnu'\n",
            "\u001b[0m\u001b[1minfo: \u001b[0mdefault toolchain set to 'stable-x86_64-unknown-linux-gnu'\n",
            "\n",
            "  \u001b[0m\u001b[1mstable-x86_64-unknown-linux-gnu unchanged\u001b[0m - rustc 1.86.0 (05f9846f8 2025-03-31)\n",
            "\n",
            "\u001b[0m\u001b[1m\n",
            "Rust is installed now. Great!\n",
            "\u001b[0m\n",
            "To get started you may need to restart your current shell.\n",
            "This would reload your \u001b[0m\u001b[1mPATH\u001b[0m environment variable to include\n",
            "Cargo's bin directory ($HOME/.cargo/bin).\n",
            "\n",
            "To configure your current shell, you need to source\n",
            "the corresponding \u001b[0m\u001b[1menv\u001b[0m file under $HOME/.cargo.\n",
            "\n",
            "This is usually done by running one of the following (note the leading DOT):\n",
            ". \"$HOME/.cargo/env\"            # For sh/bash/zsh/ash/dash/pdksh\n",
            "source \"$HOME/.cargo/env.fish\"  # For fish\n",
            "source $\"($nu.home-path)/.cargo/env.nu\"  # For nushell\n",
            "cargo 1.86.0 (adf9b6ad1 2025-02-28)\n"
          ]
        }
      ]
    },
    {
      "cell_type": "code",
      "source": [
        "%cd /content/candle/candle-examples/examples\n",
        "!cargo run --example phi --release -- --model 2 \\\n",
        "  --prompt \"A skier slides down a frictionless slope of height 40m and length 80m. What's the skier speed at the bottom?\"\n",
        "\n"
      ],
      "metadata": {
        "colab": {
          "base_uri": "https://localhost:8080/"
        },
        "id": "3QIhUSAxqO7l",
        "outputId": "dc5200b8-9b9e-4658-8450-9832cf65ef1f"
      },
      "execution_count": 3,
      "outputs": [
        {
          "output_type": "stream",
          "name": "stdout",
          "text": [
            "/content/candle/candle-examples/examples\n",
            "\u001b[1m\u001b[32m    Updating\u001b[0m crates.io index\n",
            "\u001b[1m\u001b[32m     Locking\u001b[0m 645 packages to latest compatible versions\n",
            "\u001b[1m\u001b[36m      Adding\u001b[0m anstyle-wincon v3.0.6 \u001b[1m\u001b[33m(available: v3.0.7)\u001b[0m\n",
            "\u001b[1m\u001b[36m      Adding\u001b[0m fancy-regex v0.13.0 \u001b[1m\u001b[33m(available: v0.14.0)\u001b[0m\n",
            "\u001b[1m\u001b[36m      Adding\u001b[0m gemm v0.17.1 \u001b[1m\u001b[33m(available: v0.18.2)\u001b[0m\n",
            "\u001b[1m\u001b[36m      Adding\u001b[0m getrandom v0.2.16 \u001b[1m\u001b[33m(available: v0.3.2)\u001b[0m\n",
            "\u001b[1m\u001b[36m      Adding\u001b[0m imageproc v0.24.0 \u001b[1m\u001b[33m(available: v0.25.0)\u001b[0m\n",
            "\u001b[1m\u001b[36m      Adding\u001b[0m metal v0.27.0 \u001b[1m\u001b[33m(available: v0.32.0)\u001b[0m\n",
            "\u001b[1m\u001b[36m      Adding\u001b[0m once_cell v1.19.0 \u001b[1m\u001b[33m(available: v1.21.3)\u001b[0m\n",
            "\u001b[1m\u001b[36m      Adding\u001b[0m parquet v51.0.0 \u001b[1m\u001b[33m(available: v55.0.0)\u001b[0m\n",
            "\u001b[1m\u001b[36m      Adding\u001b[0m pyo3 v0.22.6 \u001b[1m\u001b[33m(available: v0.24.2)\u001b[0m\n",
            "\u001b[1m\u001b[36m      Adding\u001b[0m pyo3-build-config v0.22.6 \u001b[1m\u001b[33m(available: v0.24.2)\u001b[0m\n",
            "\u001b[1m\u001b[36m      Adding\u001b[0m regex v1.10.6 \u001b[1m\u001b[33m(available: v1.11.1)\u001b[0m\n",
            "\u001b[1m\u001b[36m      Adding\u001b[0m rubato v0.15.0 \u001b[1m\u001b[33m(available: v0.16.2)\u001b[0m\n",
            "\u001b[1m\u001b[36m      Adding\u001b[0m safetensors v0.4.5 \u001b[1m\u001b[33m(available: v0.5.3)\u001b[0m\n",
            "\u001b[1m\u001b[36m      Adding\u001b[0m thiserror v1.0.69 \u001b[1m\u001b[33m(available: v2.0.12)\u001b[0m\n",
            "\u001b[1m\u001b[36m      Adding\u001b[0m wasm-bindgen-futures v0.4.45 \u001b[1m\u001b[33m(available: v0.4.50)\u001b[0m\n",
            "\u001b[1m\u001b[36m      Adding\u001b[0m wasm-bindgen-test v0.3.45 \u001b[1m\u001b[33m(available: v0.3.50)\u001b[0m\n",
            "\u001b[1m\u001b[36m      Adding\u001b[0m wasm-bindgen-test-macro v0.3.45 \u001b[1m\u001b[33m(available: v0.3.50)\u001b[0m\n",
            "\u001b[1m\u001b[36m      Adding\u001b[0m wasm-streams v0.4.1 \u001b[1m\u001b[33m(available: v0.4.2)\u001b[0m\n",
            "\u001b[1m\u001b[36m      Adding\u001b[0m web-sys v0.3.70 \u001b[1m\u001b[33m(available: v0.3.77)\u001b[0m\n",
            "\u001b[1m\u001b[36m      Adding\u001b[0m yew v0.20.0 \u001b[1m\u001b[33m(available: v0.21.0)\u001b[0m\n",
            "\u001b[1m\u001b[36m      Adding\u001b[0m yew-agent v0.2.0 \u001b[1m\u001b[33m(available: v0.3.0)\u001b[0m\n",
            "\u001b[1m\u001b[36m      Adding\u001b[0m yoke v0.7.5 \u001b[1m\u001b[33m(available: v0.8.0)\u001b[0m\n",
            "\u001b[1m\u001b[36m      Adding\u001b[0m zip v1.1.4 \u001b[1m\u001b[33m(available: v2.6.1)\u001b[0m\n",
            "\u001b[1m\u001b[32m Downloading\u001b[0m crates ...\n",
            "\u001b[1m\u001b[32m  Downloaded\u001b[0m ab_glyph_rasterizer v0.1.8\n",
            "\u001b[1m\u001b[32m  Downloaded\u001b[0m anstyle-parse v0.2.6\n",
            "\u001b[1m\u001b[32m  Downloaded\u001b[0m ab_glyph v0.2.29\n",
            "\u001b[1m\u001b[32m  Downloaded\u001b[0m addr2line v0.24.2\n",
            "\u001b[1m\u001b[32m  Downloaded\u001b[0m adler2 v2.0.0\n",
            "\u001b[1m\u001b[32m  Downloaded\u001b[0m darling_macro v0.20.11\n",
            "\u001b[1m\u001b[32m  Downloaded\u001b[0m anstyle v1.0.10\n",
            "\u001b[1m\u001b[32m  Downloaded\u001b[0m slab v0.4.9\n",
            "\u001b[1m\u001b[32m  Downloaded\u001b[0m gemm-f64 v0.18.2\n",
            "\u001b[1m\u001b[32m  Downloaded\u001b[0m gemm-f32 v0.18.2\n",
            "\u001b[1m\u001b[32m  Downloaded\u001b[0m stable_deref_trait v1.2.0\n",
            "\u001b[1m\u001b[32m  Downloaded\u001b[0m macro_rules_attribute v0.2.0\n",
            "\u001b[1m\u001b[32m  Downloaded\u001b[0m monostate-impl v0.1.14\n",
            "\u001b[1m\u001b[32m  Downloaded\u001b[0m onig v6.4.0\n",
            "\u001b[1m\u001b[32m  Downloaded\u001b[0m proc-macro2 v1.0.95\n",
            "\u001b[1m\u001b[32m  Downloaded\u001b[0m rand_core v0.9.3\n",
            "\u001b[1m\u001b[32m  Downloaded\u001b[0m overload v0.1.1\n",
            "\u001b[1m\u001b[32m  Downloaded\u001b[0m option-ext v0.2.0\n",
            "\u001b[1m\u001b[32m  Downloaded\u001b[0m simba v0.8.1\n",
            "\u001b[1m\u001b[32m  Downloaded\u001b[0m regex-syntax v0.8.5\n",
            "\u001b[1m\u001b[32m  Downloaded\u001b[0m reqwest v0.12.15\n",
            "\u001b[1m\u001b[32m  Downloaded\u001b[0m rayon-core v1.12.1\n",
            "\u001b[1m\u001b[32m  Downloaded\u001b[0m regex v1.10.6\n",
            "\u001b[1m\u001b[32m  Downloaded\u001b[0m itertools v0.13.0\n",
            "\u001b[1m\u001b[32m  Downloaded\u001b[0m regex-automata v0.4.9\n",
            "\u001b[1m\u001b[32m  Downloaded\u001b[0m tokenizers v0.21.1\n",
            "\u001b[1m\u001b[32m  Downloaded\u001b[0m rustls-webpki v0.103.2\n",
            "\u001b[1m\u001b[32m  Downloaded\u001b[0m rand v0.9.1\n",
            "\u001b[1m\u001b[32m  Downloaded\u001b[0m openssl v0.10.72\n",
            "\u001b[1m\u001b[32m  Downloaded\u001b[0m memchr v2.7.4\n",
            "\u001b[1m\u001b[32m  Downloaded\u001b[0m zerocopy v0.8.25\n",
            "\u001b[1m\u001b[32m  Downloaded\u001b[0m openssl-sys v0.9.108\n",
            "\u001b[1m\u001b[32m  Downloaded\u001b[0m nom v7.1.3\n",
            "\u001b[1m\u001b[32m  Downloaded\u001b[0m syn v2.0.101\n",
            "\u001b[1m\u001b[32m  Downloaded\u001b[0m serde v1.0.219\n",
            "\u001b[1m\u001b[32m  Downloaded\u001b[0m webpki-roots v1.0.0\n",
            "\u001b[1m\u001b[32m  Downloaded\u001b[0m rustls v0.23.27\n",
            "\u001b[1m\u001b[32m  Downloaded\u001b[0m onig_sys v69.8.1\n",
            "\u001b[1m\u001b[32m  Downloaded\u001b[0m nalgebra v0.32.6\n",
            "\u001b[1m\u001b[32m  Downloaded\u001b[0m unicode-width v0.2.0\n",
            "\u001b[1m\u001b[32m  Downloaded\u001b[0m miniz_oxide v0.8.8\n",
            "\u001b[1m\u001b[32m  Downloaded\u001b[0m serde_json v1.0.140\n",
            "\u001b[1m\u001b[32m  Downloaded\u001b[0m num-bigint v0.4.6\n",
            "\u001b[1m\u001b[32m  Downloaded\u001b[0m spm_precompiled v0.1.4\n",
            "\u001b[1m\u001b[32m  Downloaded\u001b[0m minimal-lexical v0.2.1\n",
            "\u001b[1m\u001b[32m  Downloaded\u001b[0m rand v0.8.5\n",
            "\u001b[1m\u001b[32m  Downloaded\u001b[0m vcpkg v0.2.15\n",
            "\u001b[1m\u001b[32m  Downloaded\u001b[0m portable-atomic v1.11.0\n",
            "\u001b[1m\u001b[32m  Downloaded\u001b[0m png v0.17.16\n",
            "\u001b[1m\u001b[32m  Downloaded\u001b[0m owned_ttf_parser v0.25.0\n",
            "\u001b[1m\u001b[32m  Downloaded\u001b[0m ring v0.17.14\n",
            "\u001b[1m\u001b[32m  Downloaded\u001b[0m image v0.25.6\n",
            "\u001b[1m\u001b[32m  Downloaded\u001b[0m icu_properties_data v1.5.1\n",
            "\u001b[1m\u001b[32m  Downloaded\u001b[0m ttf-parser v0.25.1\n",
            "\u001b[1m\u001b[32m  Downloaded\u001b[0m tracing-subscriber v0.3.19\n",
            "\u001b[1m\u001b[32m  Downloaded\u001b[0m libm v0.2.14\n",
            "\u001b[1m\u001b[32m  Downloaded\u001b[0m libc v0.2.172\n",
            "\u001b[1m\u001b[32m  Downloaded\u001b[0m winnow v0.7.10\n",
            "\u001b[1m\u001b[32m  Downloaded\u001b[0m idna v1.0.3\n",
            "\u001b[1m\u001b[32m  Downloaded\u001b[0m tokio v1.45.0\n",
            "\u001b[1m\u001b[32m  Downloaded\u001b[0m rayon v1.10.0\n",
            "\u001b[1m\u001b[32m  Downloaded\u001b[0m itertools v0.12.1\n",
            "\u001b[1m\u001b[32m  Downloaded\u001b[0m imageproc v0.24.0\n",
            "\u001b[1m\u001b[32m  Downloaded\u001b[0m zerovec v0.10.4\n",
            "\u001b[1m\u001b[32m  Downloaded\u001b[0m toml_edit v0.22.26\n",
            "\u001b[1m\u001b[32m  Downloaded\u001b[0m tokio-util v0.7.15\n",
            "\u001b[1m\u001b[32m  Downloaded\u001b[0m rand_distr v0.5.1\n",
            "\u001b[1m\u001b[32m  Downloaded\u001b[0m itertools v0.11.0\n",
            "\u001b[1m\u001b[32m  Downloaded\u001b[0m ureq v2.12.1\n",
            "\u001b[1m\u001b[32m  Downloaded\u001b[0m unicode-normalization-alignments v0.1.12\n",
            "\u001b[1m\u001b[32m  Downloaded\u001b[0m typenum v1.18.0\n",
            "\u001b[1m\u001b[32m  Downloaded\u001b[0m tower v0.5.2\n",
            "\u001b[1m\u001b[32m  Downloaded\u001b[0m raw-cpuid v10.7.0\n",
            "\u001b[1m\u001b[32m  Downloaded\u001b[0m indexmap v2.9.0\n",
            "\u001b[1m\u001b[32m  Downloaded\u001b[0m icu_collections v1.5.0\n",
            "\u001b[1m\u001b[32m  Downloaded\u001b[0m hyper-util v0.1.11\n",
            "\u001b[1m\u001b[32m  Downloaded\u001b[0m zip v1.1.4\n",
            "\u001b[1m\u001b[32m  Downloaded\u001b[0m wide v0.7.32\n",
            "\u001b[1m\u001b[32m  Downloaded\u001b[0m url v2.5.4\n",
            "\u001b[1m\u001b[32m  Downloaded\u001b[0m unicode-segmentation v1.12.0\n",
            "\u001b[1m\u001b[32m  Downloaded\u001b[0m tracing v0.1.41\n",
            "\u001b[1m\u001b[32m  Downloaded\u001b[0m raw-cpuid v11.5.0\n",
            "\u001b[1m\u001b[32m  Downloaded\u001b[0m unicode_categories v0.1.1\n",
            "\u001b[1m\u001b[32m  Downloaded\u001b[0m tracing-core v0.1.33\n",
            "\u001b[1m\u001b[32m  Downloaded\u001b[0m seq-macro v0.3.6\n",
            "\u001b[1m\u001b[32m  Downloaded\u001b[0m ryu v1.0.20\n",
            "\u001b[1m\u001b[32m  Downloaded\u001b[0m indicatif v0.17.11\n",
            "\u001b[1m\u001b[32m  Downloaded\u001b[0m icu_provider v1.5.0\n",
            "\u001b[1m\u001b[32m  Downloaded\u001b[0m icu_properties v1.5.1\n",
            "\u001b[1m\u001b[32m  Downloaded\u001b[0m icu_normalizer_data v1.5.1\n",
            "\u001b[1m\u001b[32m  Downloaded\u001b[0m icu_normalizer v1.5.0\n",
            "\u001b[1m\u001b[32m  Downloaded\u001b[0m icu_locid_transform_data v1.5.1\n",
            "\u001b[1m\u001b[32m  Downloaded\u001b[0m icu_locid v1.5.0\n",
            "\u001b[1m\u001b[32m  Downloaded\u001b[0m zune-jpeg v0.4.14\n",
            "\u001b[1m\u001b[32m  Downloaded\u001b[0m ug v0.4.0\n",
            "\u001b[1m\u001b[32m  Downloaded\u001b[0m tracing-attributes v0.1.28\n",
            "\u001b[1m\u001b[32m  Downloaded\u001b[0m tokio-rustls v0.26.2\n",
            "\u001b[1m\u001b[32m  Downloaded\u001b[0m thiserror-impl v1.0.69\n",
            "\u001b[1m\u001b[32m  Downloaded\u001b[0m thiserror v2.0.12\n",
            "\u001b[1m\u001b[32m  Downloaded\u001b[0m openssl-probe v0.1.6\n",
            "\u001b[1m\u001b[32m  Downloaded\u001b[0m num-rational v0.4.2\n",
            "\u001b[1m\u001b[32m  Downloaded\u001b[0m num-iter v0.1.45\n",
            "\u001b[1m\u001b[32m  Downloaded\u001b[0m num-integer v0.1.46\n",
            "\u001b[1m\u001b[32m  Downloaded\u001b[0m num-complex v0.4.6\n",
            "\u001b[1m\u001b[32m  Downloaded\u001b[0m native-tls v0.2.14\n",
            "\u001b[1m\u001b[32m  Downloaded\u001b[0m mime v0.3.17\n",
            "\u001b[1m\u001b[32m  Downloaded\u001b[0m matrixmultiply v0.3.9\n",
            "\u001b[1m\u001b[32m  Downloaded\u001b[0m sharded-slab v0.1.7\n",
            "\u001b[1m\u001b[32m  Downloaded\u001b[0m pulp v0.21.5\n",
            "\u001b[1m\u001b[32m  Downloaded\u001b[0m pulp v0.18.22\n",
            "\u001b[1m\u001b[32m  Downloaded\u001b[0m object v0.36.7\n",
            "\u001b[1m\u001b[32m  Downloaded\u001b[0m log v0.4.27\n",
            "\u001b[1m\u001b[32m  Downloaded\u001b[0m litemap v0.7.5\n",
            "\u001b[1m\u001b[32m  Downloaded\u001b[0m ipnet v2.11.0\n",
            "\u001b[1m\u001b[32m  Downloaded\u001b[0m icu_locid_transform v1.5.0\n",
            "\u001b[1m\u001b[32m  Downloaded\u001b[0m unicode-ident v1.0.18\n",
            "\u001b[1m\u001b[32m  Downloaded\u001b[0m thiserror-impl v2.0.12\n",
            "\u001b[1m\u001b[32m  Downloaded\u001b[0m openssl-macros v0.1.1\n",
            "\u001b[1m\u001b[32m  Downloaded\u001b[0m num v0.4.3\n",
            "\u001b[1m\u001b[32m  Downloaded\u001b[0m nu-ansi-term v0.46.0\n",
            "\u001b[1m\u001b[32m  Downloaded\u001b[0m macro_rules_attribute-proc_macro v0.2.0\n",
            "\u001b[1m\u001b[32m  Downloaded\u001b[0m shlex v1.3.0\n",
            "\u001b[1m\u001b[32m  Downloaded\u001b[0m serde_plain v1.0.2\n",
            "\u001b[1m\u001b[32m  Downloaded\u001b[0m serde_derive v1.0.219\n",
            "\u001b[1m\u001b[32m  Downloaded\u001b[0m rustls-pki-types v1.11.0\n",
            "\u001b[1m\u001b[32m  Downloaded\u001b[0m rand_chacha v0.9.0\n",
            "\u001b[1m\u001b[32m  Downloaded\u001b[0m rand_chacha v0.3.1\n",
            "\u001b[1m\u001b[32m  Downloaded\u001b[0m quote v1.0.40\n",
            "\u001b[1m\u001b[32m  Downloaded\u001b[0m proc-macro-crate v3.3.0\n",
            "\u001b[1m\u001b[32m  Downloaded\u001b[0m ppv-lite86 v0.2.21\n",
            "\u001b[1m\u001b[32m  Downloaded\u001b[0m pin-utils v0.1.0\n",
            "\u001b[1m\u001b[32m  Downloaded\u001b[0m pin-project-lite v0.2.16\n",
            "\u001b[1m\u001b[32m  Downloaded\u001b[0m percent-encoding v2.3.1\n",
            "\u001b[1m\u001b[32m  Downloaded\u001b[0m paste v1.0.15\n",
            "\u001b[1m\u001b[32m  Downloaded\u001b[0m rustc-demangle v0.1.24\n",
            "\u001b[1m\u001b[32m  Downloaded\u001b[0m libloading v0.8.6\n",
            "\u001b[1m\u001b[32m  Downloaded\u001b[0m zerovec-derive v0.10.3\n",
            "\u001b[1m\u001b[32m  Downloaded\u001b[0m zeroize v1.8.1\n",
            "\u001b[1m\u001b[32m  Downloaded\u001b[0m yoke v0.7.5\n",
            "\u001b[1m\u001b[32m  Downloaded\u001b[0m writeable v0.5.5\n",
            "\u001b[1m\u001b[32m  Downloaded\u001b[0m version_check v0.9.5\n",
            "\u001b[1m\u001b[32m  Downloaded\u001b[0m utf8parse v0.2.2\n",
            "\u001b[1m\u001b[32m  Downloaded\u001b[0m utf8_iter v1.0.4\n",
            "\u001b[1m\u001b[32m  Downloaded\u001b[0m utf16_iter v1.0.5\n",
            "\u001b[1m\u001b[32m  Downloaded\u001b[0m tracing-log v0.2.0\n",
            "\u001b[1m\u001b[32m  Downloaded\u001b[0m tower-layer v0.3.3\n",
            "\u001b[1m\u001b[32m  Downloaded\u001b[0m toml_datetime v0.6.9\n",
            "\u001b[1m\u001b[32m  Downloaded\u001b[0m tokio-native-tls v0.3.1\n",
            "\u001b[1m\u001b[32m  Downloaded\u001b[0m tokio-macros v2.5.0\n",
            "\u001b[1m\u001b[32m  Downloaded\u001b[0m tinystr v0.7.6\n",
            "\u001b[1m\u001b[32m  Downloaded\u001b[0m thread_local v1.1.8\n",
            "\u001b[1m\u001b[32m  Downloaded\u001b[0m thiserror v1.0.69\n",
            "\u001b[1m\u001b[32m  Downloaded\u001b[0m synstructure v0.13.2\n",
            "\u001b[1m\u001b[32m  Downloaded\u001b[0m rand_core v0.6.4\n",
            "\u001b[1m\u001b[32m  Downloaded\u001b[0m pkg-config v0.3.32\n",
            "\u001b[1m\u001b[32m  Downloaded\u001b[0m reborrow v0.5.5\n",
            "\u001b[1m\u001b[32m  Downloaded\u001b[0m rayon-cond v0.3.0\n",
            "\u001b[1m\u001b[32m  Downloaded\u001b[0m rawpointer v0.2.1\n",
            "\u001b[1m\u001b[32m  Downloaded\u001b[0m rand_distr v0.4.3\n",
            "\u001b[1m\u001b[32m  Downloaded\u001b[0m mio v1.0.3\n",
            "\u001b[1m\u001b[32m  Downloaded\u001b[0m lazy_static v1.5.0\n",
            "\u001b[1m\u001b[32m  Downloaded\u001b[0m itoa v1.0.15\n",
            "\u001b[1m\u001b[32m  Downloaded\u001b[0m is_terminal_polyfill v1.70.1\n",
            "\u001b[1m\u001b[32m  Downloaded\u001b[0m idna_adapter v1.2.0\n",
            "\u001b[1m\u001b[32m  Downloaded\u001b[0m icu_provider_macros v1.5.0\n",
            "\u001b[1m\u001b[32m  Downloaded\u001b[0m zune-core v0.4.12\n",
            "\u001b[1m\u001b[32m  Downloaded\u001b[0m zerofrom-derive v0.1.6\n",
            "\u001b[1m\u001b[32m  Downloaded\u001b[0m zerofrom v0.1.6\n",
            "\u001b[1m\u001b[32m  Downloaded\u001b[0m yoke-derive v0.7.5\n",
            "\u001b[1m\u001b[32m  Downloaded\u001b[0m write16 v1.0.0\n",
            "\u001b[1m\u001b[32m  Downloaded\u001b[0m webpki-roots v0.26.11\n",
            "\u001b[1m\u001b[32m  Downloaded\u001b[0m want v0.3.1\n",
            "\u001b[1m\u001b[32m  Downloaded\u001b[0m untrusted v0.9.0\n",
            "\u001b[1m\u001b[32m  Downloaded\u001b[0m tracing-chrome v0.7.2\n",
            "\u001b[1m\u001b[32m  Downloaded\u001b[0m encoding_rs v0.8.35\n",
            "\u001b[1m\u001b[32m  Downloaded\u001b[0m csv v1.3.1\n",
            "\u001b[1m\u001b[32m  Downloaded\u001b[0m once_cell v1.19.0\n",
            "\u001b[1m\u001b[32m  Downloaded\u001b[0m try-lock v0.2.5\n",
            "\u001b[1m\u001b[32m  Downloaded\u001b[0m gimli v0.31.1\n",
            "\u001b[1m\u001b[32m  Downloaded\u001b[0m number_prefix v0.4.0\n",
            "\u001b[1m\u001b[32m  Downloaded\u001b[0m num_enum_derive v0.7.3\n",
            "\u001b[1m\u001b[32m  Downloaded\u001b[0m num_enum v0.7.3\n",
            "\u001b[1m\u001b[32m  Downloaded\u001b[0m num_cpus v1.16.0\n",
            "\u001b[1m\u001b[32m  Downloaded\u001b[0m num-traits v0.2.19\n",
            "\u001b[1m\u001b[32m  Downloaded\u001b[0m memmap2 v0.9.5\n",
            "\u001b[1m\u001b[32m  Downloaded\u001b[0m ident_case v1.0.1\n",
            "\u001b[1m\u001b[32m  Downloaded\u001b[0m tower-service v0.3.3\n",
            "\u001b[1m\u001b[32m  Downloaded\u001b[0m sync_wrapper v1.0.2\n",
            "\u001b[1m\u001b[32m  Downloaded\u001b[0m socks v0.3.4\n",
            "\u001b[1m\u001b[32m  Downloaded\u001b[0m smallvec v1.15.0\n",
            "\u001b[1m\u001b[32m  Downloaded\u001b[0m safe_arch v0.7.4\n",
            "\u001b[1m\u001b[32m  Downloaded\u001b[0m hyper-tls v0.6.0\n",
            "\u001b[1m\u001b[32m  Downloaded\u001b[0m hyper v1.6.0\n",
            "\u001b[1m\u001b[32m  Downloaded\u001b[0m http v1.3.1\n",
            "\u001b[1m\u001b[32m  Downloaded\u001b[0m hashbrown v0.15.3\n",
            "\u001b[1m\u001b[32m  Downloaded\u001b[0m half v2.6.0\n",
            "\u001b[1m\u001b[32m  Downloaded\u001b[0m h2 v0.4.10\n",
            "\u001b[1m\u001b[32m  Downloaded\u001b[0m futures-util v0.3.31\n",
            "\u001b[1m\u001b[32m  Downloaded\u001b[0m futures v0.3.31\n",
            "\u001b[1m\u001b[32m  Downloaded\u001b[0m flate2 v1.1.1\n",
            "\u001b[1m\u001b[32m  Downloaded\u001b[0m fancy-regex v0.13.0\n",
            "\u001b[1m\u001b[32m  Downloaded\u001b[0m esaxx-rs v0.1.10\n",
            "\u001b[1m\u001b[32m  Downloaded\u001b[0m clap_builder v4.5.37\n",
            "\u001b[1m\u001b[32m  Downloaded\u001b[0m cc v1.2.21\n",
            "\u001b[1m\u001b[32m  Downloaded\u001b[0m bytes v1.10.1\n",
            "\u001b[1m\u001b[32m  Downloaded\u001b[0m base64 v0.22.1\n",
            "\u001b[1m\u001b[32m  Downloaded\u001b[0m base64 v0.13.1\n",
            "\u001b[1m\u001b[32m  Downloaded\u001b[0m backtrace v0.3.75\n",
            "\u001b[1m\u001b[32m  Downloaded\u001b[0m aho-corasick v1.1.3\n",
            "\u001b[1m\u001b[32m  Downloaded\u001b[0m monostate v0.1.14\n",
            "\u001b[1m\u001b[32m  Downloaded\u001b[0m subtle v2.6.1\n",
            "\u001b[1m\u001b[32m  Downloaded\u001b[0m strsim v0.11.1\n",
            "\u001b[1m\u001b[32m  Downloaded\u001b[0m simd-adler32 v0.3.7\n",
            "\u001b[1m\u001b[32m  Downloaded\u001b[0m rustls-pemfile v2.2.0\n",
            "\u001b[1m\u001b[32m  Downloaded\u001b[0m hyper-rustls v0.27.5\n",
            "\u001b[1m\u001b[32m  Downloaded\u001b[0m httparse v1.10.1\n",
            "\u001b[1m\u001b[32m  Downloaded\u001b[0m http-body-util v0.1.3\n",
            "\u001b[1m\u001b[32m  Downloaded\u001b[0m hf-hub v0.4.2\n",
            "\u001b[1m\u001b[32m  Downloaded\u001b[0m getrandom v0.3.2\n",
            "\u001b[1m\u001b[32m  Downloaded\u001b[0m getrandom v0.2.16\n",
            "\u001b[1m\u001b[32m  Downloaded\u001b[0m gemm-common v0.18.2\n",
            "\u001b[1m\u001b[32m  Downloaded\u001b[0m gemm-common v0.17.1\n",
            "\u001b[1m\u001b[32m  Downloaded\u001b[0m futures-core v0.3.31\n",
            "\u001b[1m\u001b[32m  Downloaded\u001b[0m fdeflate v0.3.7\n",
            "\u001b[1m\u001b[32m  Downloaded\u001b[0m dyn-stack v0.10.0\n",
            "\u001b[1m\u001b[32m  Downloaded\u001b[0m displaydoc v0.2.5\n",
            "\u001b[1m\u001b[32m  Downloaded\u001b[0m derive_builder_core v0.20.2\n",
            "\u001b[1m\u001b[32m  Downloaded\u001b[0m derive_builder v0.20.2\n",
            "\u001b[1m\u001b[32m  Downloaded\u001b[0m darling_core v0.20.11\n",
            "\u001b[1m\u001b[32m  Downloaded\u001b[0m darling v0.20.11\n",
            "\u001b[1m\u001b[32m  Downloaded\u001b[0m csv-core v0.1.12\n",
            "\u001b[1m\u001b[32m  Downloaded\u001b[0m crossbeam-utils v0.8.21\n",
            "\u001b[1m\u001b[32m  Downloaded\u001b[0m crossbeam-epoch v0.9.18\n",
            "\u001b[1m\u001b[32m  Downloaded\u001b[0m crc32fast v1.4.2\n",
            "\u001b[1m\u001b[32m  Downloaded\u001b[0m console v0.15.11\n",
            "\u001b[1m\u001b[32m  Downloaded\u001b[0m clap_derive v4.5.32\n",
            "\u001b[1m\u001b[32m  Downloaded\u001b[0m clap v4.5.37\n",
            "\u001b[1m\u001b[32m  Downloaded\u001b[0m bytemuck v1.23.0\n",
            "\u001b[1m\u001b[32m  Downloaded\u001b[0m bitflags v2.9.0\n",
            "\u001b[1m\u001b[32m  Downloaded\u001b[0m bit-vec v0.6.3\n",
            "\u001b[1m\u001b[32m  Downloaded\u001b[0m anyhow v1.0.98\n",
            "\u001b[1m\u001b[32m  Downloaded\u001b[0m anstream v0.6.18\n",
            "\u001b[1m\u001b[32m  Downloaded\u001b[0m socket2 v0.5.9\n",
            "\u001b[1m\u001b[32m  Downloaded\u001b[0m serde_urlencoded v0.7.1\n",
            "\u001b[1m\u001b[32m  Downloaded\u001b[0m safetensors v0.4.5\n",
            "\u001b[1m\u001b[32m  Downloaded\u001b[0m heck v0.5.0\n",
            "\u001b[1m\u001b[32m  Downloaded\u001b[0m gemm-f16 v0.18.2\n",
            "\u001b[1m\u001b[32m  Downloaded\u001b[0m gemm-f16 v0.17.1\n",
            "\u001b[1m\u001b[32m  Downloaded\u001b[0m gemm v0.18.2\n",
            "\u001b[1m\u001b[32m  Downloaded\u001b[0m futures-sink v0.3.31\n",
            "\u001b[1m\u001b[32m  Downloaded\u001b[0m futures-macro v0.3.31\n",
            "\u001b[1m\u001b[32m  Downloaded\u001b[0m futures-channel v0.3.31\n",
            "\u001b[1m\u001b[32m  Downloaded\u001b[0m form_urlencoded v1.2.1\n",
            "\u001b[1m\u001b[32m  Downloaded\u001b[0m dirs-sys v0.4.1\n",
            "\u001b[1m\u001b[32m  Downloaded\u001b[0m crossbeam-deque v0.8.6\n",
            "\u001b[1m\u001b[32m  Downloaded\u001b[0m conv v0.3.3\n",
            "\u001b[1m\u001b[32m  Downloaded\u001b[0m cfg-if v1.0.0\n",
            "\u001b[1m\u001b[32m  Downloaded\u001b[0m byteorder-lite v0.1.0\n",
            "\u001b[1m\u001b[32m  Downloaded\u001b[0m bitflags v1.3.2\n",
            "\u001b[1m\u001b[32m  Downloaded\u001b[0m autocfg v1.4.0\n",
            "\u001b[1m\u001b[32m  Downloaded\u001b[0m approx v0.5.1\n",
            "\u001b[1m\u001b[32m  Downloaded\u001b[0m futures-task v0.3.31\n",
            "\u001b[1m\u001b[32m  Downloaded\u001b[0m futures-io v0.3.31\n",
            "\u001b[1m\u001b[32m  Downloaded\u001b[0m futures-executor v0.3.31\n",
            "\u001b[1m\u001b[32m  Downloaded\u001b[0m fnv v1.0.7\n",
            "\u001b[1m\u001b[32m  Downloaded\u001b[0m either v1.15.0\n",
            "\u001b[1m\u001b[32m  Downloaded\u001b[0m dyn-stack v0.13.0\n",
            "\u001b[1m\u001b[32m  Downloaded\u001b[0m dirs v5.0.1\n",
            "\u001b[1m\u001b[32m  Downloaded\u001b[0m custom_derive v0.1.7\n",
            "\u001b[1m\u001b[32m  Downloaded\u001b[0m colorchoice v1.0.3\n",
            "\u001b[1m\u001b[32m  Downloaded\u001b[0m clap_lex v0.7.4\n",
            "\u001b[1m\u001b[32m  Downloaded\u001b[0m byteorder v1.5.0\n",
            "\u001b[1m\u001b[32m  Downloaded\u001b[0m bytemuck_derive v1.9.3\n",
            "\u001b[1m\u001b[32m  Downloaded\u001b[0m bit-set v0.5.3\n",
            "\u001b[1m\u001b[32m  Downloaded\u001b[0m atomic-waker v1.1.2\n",
            "\u001b[1m\u001b[32m  Downloaded\u001b[0m anstyle-query v1.1.2\n",
            "\u001b[1m\u001b[32m  Downloaded\u001b[0m gemm-f32 v0.17.1\n",
            "\u001b[1m\u001b[32m  Downloaded\u001b[0m gemm-c64 v0.18.2\n",
            "\u001b[1m\u001b[32m  Downloaded\u001b[0m gemm-f64 v0.17.1\n",
            "\u001b[1m\u001b[32m  Downloaded\u001b[0m gemm-c32 v0.18.2\n",
            "\u001b[1m\u001b[32m  Downloaded\u001b[0m gemm-c32 v0.17.1\n",
            "\u001b[1m\u001b[32m  Downloaded\u001b[0m gemm v0.17.1\n",
            "\u001b[1m\u001b[32m  Downloaded\u001b[0m foreign-types-shared v0.1.1\n",
            "\u001b[1m\u001b[32m  Downloaded\u001b[0m foreign-types v0.3.2\n",
            "\u001b[1m\u001b[32m  Downloaded\u001b[0m equivalent v1.0.2\n",
            "\u001b[1m\u001b[32m  Downloaded\u001b[0m http-body v1.0.1\n",
            "\u001b[1m\u001b[32m  Downloaded\u001b[0m gemm-c64 v0.17.1\n",
            "\u001b[1m\u001b[32m  Downloaded\u001b[0m derive_builder_macro v0.20.2\n",
            "\u001b[1m\u001b[32m   Compiling\u001b[0m proc-macro2 v1.0.95\n",
            "\u001b[1m\u001b[32m   Compiling\u001b[0m unicode-ident v1.0.18\n",
            "\u001b[1m\u001b[32m   Compiling\u001b[0m libc v0.2.172\n",
            "\u001b[1m\u001b[32m   Compiling\u001b[0m quote v1.0.40\n",
            "\u001b[1m\u001b[32m   Compiling\u001b[0m cfg-if v1.0.0\n",
            "\u001b[1m\u001b[32m   Compiling\u001b[0m autocfg v1.4.0\n",
            "\u001b[1m\u001b[32m   Compiling\u001b[0m syn v2.0.101\n",
            "\u001b[1m\u001b[32m   Compiling\u001b[0m once_cell v1.19.0\n",
            "\u001b[1m\u001b[32m   Compiling\u001b[0m libm v0.2.14\n",
            "\u001b[1m\u001b[32m   Compiling\u001b[0m num-traits v0.2.19\n",
            "\u001b[1m\u001b[32m   Compiling\u001b[0m zerocopy v0.8.25\n",
            "\u001b[1m\u001b[32m   Compiling\u001b[0m memchr v2.7.4\n",
            "\u001b[1m\u001b[32m   Compiling\u001b[0m bytemuck_derive v1.9.3\n",
            "\u001b[1m\u001b[32m   Compiling\u001b[0m ppv-lite86 v0.2.21\n",
            "\u001b[1m\u001b[32m   Compiling\u001b[0m crossbeam-utils v0.8.21\n",
            "\u001b[1m\u001b[32m   Compiling\u001b[0m paste v1.0.15\n",
            "\u001b[1m\u001b[32m   Compiling\u001b[0m bytemuck v1.23.0\n",
            "\u001b[1m\u001b[32m   Compiling\u001b[0m either v1.15.0\n",
            "\u001b[1m\u001b[32m   Compiling\u001b[0m getrandom v0.3.2\n",
            "\u001b[1m\u001b[32m   Compiling\u001b[0m num-complex v0.4.6\n",
            "\u001b[1m\u001b[32m   Compiling\u001b[0m shlex v1.3.0\n",
            "\u001b[1m\u001b[32m   Compiling\u001b[0m cc v1.2.21\n",
            "\u001b[1m\u001b[32m   Compiling\u001b[0m crossbeam-epoch v0.9.18\n",
            "\u001b[1m\u001b[32m   Compiling\u001b[0m rayon-core v1.12.1\n",
            "\u001b[1m\u001b[32m   Compiling\u001b[0m rand_core v0.9.3\n",
            "\u001b[1m\u001b[32m   Compiling\u001b[0m crossbeam-deque v0.8.6\n",
            "\u001b[1m\u001b[32m   Compiling\u001b[0m synstructure v0.13.2\n",
            "\u001b[1m\u001b[32m   Compiling\u001b[0m rand_chacha v0.9.0\n",
            "\u001b[1m\u001b[32m   Compiling\u001b[0m reborrow v0.5.5\n",
            "\u001b[1m\u001b[32m   Compiling\u001b[0m rand v0.9.1\n",
            "\u001b[1m\u001b[32m   Compiling\u001b[0m zerofrom-derive v0.1.6\n",
            "\u001b[1m\u001b[32m   Compiling\u001b[0m rayon v1.10.0\n",
            "\u001b[1m\u001b[32m   Compiling\u001b[0m itoa v1.0.15\n",
            "\u001b[1m\u001b[32m   Compiling\u001b[0m stable_deref_trait v1.2.0\n",
            "\u001b[1m\u001b[32m   Compiling\u001b[0m zerofrom v0.1.6\n",
            "\u001b[1m\u001b[32m   Compiling\u001b[0m rand_distr v0.5.1\n",
            "\u001b[1m\u001b[32m   Compiling\u001b[0m yoke-derive v0.7.5\n",
            "\u001b[1m\u001b[32m   Compiling\u001b[0m pin-project-lite v0.2.16\n",
            "\u001b[1m\u001b[32m   Compiling\u001b[0m bitflags v2.9.0\n",
            "\u001b[1m\u001b[32m   Compiling\u001b[0m half v2.6.0\n",
            "\u001b[1m\u001b[32m   Compiling\u001b[0m yoke v0.7.5\n",
            "\u001b[1m\u001b[32m   Compiling\u001b[0m seq-macro v0.3.6\n",
            "\u001b[1m\u001b[32m   Compiling\u001b[0m serde v1.0.219\n",
            "\u001b[1m\u001b[32m   Compiling\u001b[0m serde_derive v1.0.219\n",
            "\u001b[1m\u001b[32m   Compiling\u001b[0m displaydoc v0.2.5\n",
            "\u001b[1m\u001b[32m   Compiling\u001b[0m pkg-config v0.3.32\n",
            "\u001b[1m\u001b[32m   Compiling\u001b[0m bitflags v1.3.2\n",
            "\u001b[1m\u001b[32m   Compiling\u001b[0m zerovec-derive v0.10.3\n",
            "\u001b[1m\u001b[32m   Compiling\u001b[0m tracing-core v0.1.33\n",
            "\u001b[1m\u001b[32m   Compiling\u001b[0m futures-core v0.3.31\n",
            "\u001b[1m\u001b[32m   Compiling\u001b[0m version_check v0.9.5\n",
            "\u001b[1m\u001b[32m   Compiling\u001b[0m smallvec v1.15.0\n",
            "\u001b[1m\u001b[32m   Compiling\u001b[0m pulp v0.21.5\n",
            "\u001b[1m\u001b[32m   Compiling\u001b[0m zerovec v0.10.4\n",
            "\u001b[1m\u001b[32m   Compiling\u001b[0m bytes v1.10.1\n",
            "\u001b[1m\u001b[32m   Compiling\u001b[0m ryu v1.0.20\n",
            "\u001b[1m\u001b[32m   Compiling\u001b[0m slab v0.4.9\n",
            "\u001b[1m\u001b[32m   Compiling\u001b[0m vcpkg v0.2.15\n",
            "\u001b[1m\u001b[32m   Compiling\u001b[0m serde_json v1.0.140\n",
            "\u001b[1m\u001b[32m   Compiling\u001b[0m futures-sink v0.3.31\n",
            "\u001b[1m\u001b[32m   Compiling\u001b[0m openssl-sys v0.9.108\n",
            "\u001b[1m\u001b[32m   Compiling\u001b[0m tinystr v0.7.6\n",
            "\u001b[1m\u001b[32m   Compiling\u001b[0m raw-cpuid v11.5.0\n",
            "\u001b[1m\u001b[32m   Compiling\u001b[0m dyn-stack v0.13.0\n",
            "\u001b[1m\u001b[32m   Compiling\u001b[0m tracing-attributes v0.1.28\n",
            "\u001b[1m\u001b[32m   Compiling\u001b[0m getrandom v0.2.16\n",
            "\u001b[1m\u001b[32m   Compiling\u001b[0m writeable v0.5.5\n",
            "\u001b[1m\u001b[32m   Compiling\u001b[0m log v0.4.27\n",
            "\u001b[1m\u001b[32m   Compiling\u001b[0m hashbrown v0.15.3\n",
            "\u001b[1m\u001b[32m   Compiling\u001b[0m litemap v0.7.5\n",
            "\u001b[1m\u001b[32m   Compiling\u001b[0m icu_locid_transform_data v1.5.1\n",
            "\u001b[1m\u001b[32m   Compiling\u001b[0m equivalent v1.0.2\n",
            "\u001b[1m\u001b[32m   Compiling\u001b[0m icu_locid v1.5.0\n",
            "\u001b[1m\u001b[32m   Compiling\u001b[0m indexmap v2.9.0\n",
            "\u001b[1m\u001b[32m   Compiling\u001b[0m tracing v0.1.41\n",
            "\u001b[1m\u001b[32m   Compiling\u001b[0m gemm-common v0.18.2\n",
            "\u001b[1m\u001b[32m   Compiling\u001b[0m raw-cpuid v10.7.0\n",
            "\u001b[1m\u001b[32m   Compiling\u001b[0m pulp v0.18.22\n",
            "\u001b[1m\u001b[32m   Compiling\u001b[0m dyn-stack v0.10.0\n",
            "\u001b[1m\u001b[32m   Compiling\u001b[0m icu_provider_macros v1.5.0\n",
            "\u001b[1m\u001b[32m   Compiling\u001b[0m tokio-macros v2.5.0\n",
            "\u001b[1m\u001b[32m   Compiling\u001b[0m num-integer v0.1.46\n",
            "\u001b[1m\u001b[32m   Compiling\u001b[0m crc32fast v1.4.2\n",
            "\u001b[1m\u001b[32m   Compiling\u001b[0m mio v1.0.3\n",
            "\u001b[1m\u001b[32m   Compiling\u001b[0m socket2 v0.5.9\n",
            "\u001b[1m\u001b[32m   Compiling\u001b[0m icu_properties_data v1.5.1\n",
            "\u001b[1m\u001b[32m   Compiling\u001b[0m object v0.36.7\n",
            "\u001b[1m\u001b[32m   Compiling\u001b[0m simd-adler32 v0.3.7\n",
            "\u001b[1m\u001b[32m   Compiling\u001b[0m tokio v1.45.0\n",
            "\u001b[1m\u001b[32m   Compiling\u001b[0m gemm-common v0.17.1\n",
            "\u001b[1m\u001b[32m   Compiling\u001b[0m icu_provider v1.5.0\n",
            "\u001b[1m\u001b[32m   Compiling\u001b[0m futures-channel v0.3.31\n",
            "\u001b[1m\u001b[32m   Compiling\u001b[0m futures-macro v0.3.31\n",
            "\u001b[1m\u001b[32m   Compiling\u001b[0m pin-utils v0.1.0\n",
            "\u001b[1m\u001b[32m   Compiling\u001b[0m adler2 v2.0.0\n",
            "\u001b[1m\u001b[32m   Compiling\u001b[0m icu_normalizer_data v1.5.1\n",
            "\u001b[1m\u001b[32m   Compiling\u001b[0m futures-io v0.3.31\n",
            "\u001b[1m\u001b[32m   Compiling\u001b[0m fnv v1.0.7\n",
            "\u001b[1m\u001b[32m   Compiling\u001b[0m futures-task v0.3.31\n",
            "\u001b[1m\u001b[32m   Compiling\u001b[0m futures-util v0.3.31\n",
            "\u001b[1m\u001b[32m   Compiling\u001b[0m http v1.3.1\n",
            "\u001b[1m\u001b[32m   Compiling\u001b[0m miniz_oxide v0.8.8\n",
            "\u001b[1m\u001b[32m   Compiling\u001b[0m icu_locid_transform v1.5.0\n",
            "\u001b[1m\u001b[32m   Compiling\u001b[0m num-bigint v0.4.6\n",
            "\u001b[1m\u001b[32m   Compiling\u001b[0m icu_collections v1.5.0\n",
            "\u001b[1m\u001b[32m   Compiling\u001b[0m toml_datetime v0.6.9\n",
            "\u001b[1m\u001b[32m   Compiling\u001b[0m foreign-types-shared v0.1.1\n",
            "\u001b[1m\u001b[32m   Compiling\u001b[0m rustls-pki-types v1.11.0\n",
            "\u001b[1m\u001b[32m   Compiling\u001b[0m winnow v0.7.10\n",
            "\u001b[1m\u001b[32m   Compiling\u001b[0m openssl v0.10.72\n",
            "\u001b[1m\u001b[32m   Compiling\u001b[0m foreign-types v0.3.2\n",
            "\u001b[1m\u001b[32m   Compiling\u001b[0m icu_properties v1.5.1\n",
            "\u001b[1m\u001b[32m   Compiling\u001b[0m toml_edit v0.22.26\n",
            "\u001b[1m\u001b[32m   Compiling\u001b[0m num-rational v0.4.2\n",
            "\u001b[1m\u001b[32m   Compiling\u001b[0m ring v0.17.14\n",
            "\u001b[1m\u001b[32m   Compiling\u001b[0m openssl-macros v0.1.1\n",
            "\u001b[1m\u001b[32m   Compiling\u001b[0m strsim v0.11.1\n",
            "\u001b[1m\u001b[32m   Compiling\u001b[0m utf8_iter v1.0.4\n",
            "\u001b[1m\u001b[32m   Compiling\u001b[0m ident_case v1.0.1\n",
            "\u001b[1m\u001b[32m   Compiling\u001b[0m utf16_iter v1.0.5\n",
            "\u001b[1m\u001b[32m   Compiling\u001b[0m native-tls v0.2.14\n",
            "\u001b[1m\u001b[32m   Compiling\u001b[0m thiserror v1.0.69\n",
            "\u001b[1m\u001b[32m   Compiling\u001b[0m write16 v1.0.0\n",
            "\u001b[1m\u001b[32m   Compiling\u001b[0m httparse v1.10.1\n",
            "\u001b[1m\u001b[32m   Compiling\u001b[0m icu_normalizer v1.5.0\n",
            "\u001b[1m\u001b[32m   Compiling\u001b[0m darling_core v0.20.11\n",
            "\u001b[1m\u001b[32m   Compiling\u001b[0m proc-macro-crate v3.3.0\n",
            "\u001b[1m\u001b[32m   Compiling\u001b[0m http-body v1.0.1\n",
            "\u001b[1m\u001b[32m   Compiling\u001b[0m tokio-util v0.7.15\n",
            "\u001b[1m\u001b[32m   Compiling\u001b[0m num-iter v0.1.45\n",
            "\u001b[1m\u001b[32m   Compiling\u001b[0m gemm-f32 v0.18.2\n",
            "\u001b[1m\u001b[32m   Compiling\u001b[0m rand_core v0.6.4\n",
            "\u001b[1m\u001b[32m   Compiling\u001b[0m thiserror-impl v1.0.69\n",
            "\u001b[1m\u001b[32m   Compiling\u001b[0m byteorder v1.5.0\n",
            "\u001b[1m\u001b[32m   Compiling\u001b[0m atomic-waker v1.1.2\n",
            "\u001b[1m\u001b[32m   Compiling\u001b[0m openssl-probe v0.1.6\n",
            "\u001b[1m\u001b[32m   Compiling\u001b[0m percent-encoding v2.3.1\n",
            "\u001b[1m\u001b[32m   Compiling\u001b[0m try-lock v0.2.5\n",
            "\u001b[1m\u001b[32m   Compiling\u001b[0m anyhow v1.0.98\n",
            "\u001b[1m\u001b[32m   Compiling\u001b[0m want v0.3.1\n",
            "\u001b[1m\u001b[32m   Compiling\u001b[0m form_urlencoded v1.2.1\n",
            "\u001b[1m\u001b[32m   Compiling\u001b[0m h2 v0.4.10\n",
            "\u001b[1m\u001b[32m   Compiling\u001b[0m gemm-f16 v0.18.2\n",
            "\u001b[1m\u001b[32m   Compiling\u001b[0m rand_chacha v0.3.1\n",
            "\u001b[1m\u001b[32m   Compiling\u001b[0m num v0.4.3\n",
            "\u001b[1m\u001b[32m   Compiling\u001b[0m num_enum_derive v0.7.3\n",
            "\u001b[1m\u001b[32m   Compiling\u001b[0m darling_macro v0.20.11\n",
            "\u001b[1m\u001b[32m   Compiling\u001b[0m idna_adapter v1.2.0\n",
            "\u001b[1m\u001b[32m   Compiling\u001b[0m flate2 v1.1.1\n",
            "\u001b[1m\u001b[32m   Compiling\u001b[0m gemm-f32 v0.17.1\n",
            "\u001b[1m\u001b[32m   Compiling\u001b[0m gemm-c64 v0.18.2\n",
            "\u001b[1m\u001b[32m   Compiling\u001b[0m gemm-c32 v0.18.2\n",
            "\u001b[1m\u001b[32m   Compiling\u001b[0m gemm-f64 v0.18.2\n",
            "\u001b[1m\u001b[32m   Compiling\u001b[0m aho-corasick v1.1.3\n",
            "\u001b[1m\u001b[32m   Compiling\u001b[0m num_cpus v1.16.0\n",
            "\u001b[1m\u001b[32m   Compiling\u001b[0m gimli v0.31.1\n",
            "\u001b[1m\u001b[32m   Compiling\u001b[0m regex-syntax v0.8.5\n",
            "\u001b[1m\u001b[32m   Compiling\u001b[0m untrusted v0.9.0\n",
            "\u001b[1m\u001b[32m   Compiling\u001b[0m tower-service v0.3.3\n",
            "\u001b[1m\u001b[32m   Compiling\u001b[0m zip v1.1.4\n",
            "\u001b[1m\u001b[32m   Compiling\u001b[0m regex-automata v0.4.9\n",
            "\u001b[1m\u001b[32m   Compiling\u001b[0m addr2line v0.24.2\n",
            "\u001b[1m\u001b[32m   Compiling\u001b[0m gemm v0.18.2\n",
            "\u001b[1m\u001b[32m   Compiling\u001b[0m gemm-f16 v0.17.1\n",
            "\u001b[1m\u001b[32m   Compiling\u001b[0m hyper v1.6.0\n",
            "\u001b[1m\u001b[32m   Compiling\u001b[0m idna v1.0.3\n",
            "\u001b[1m\u001b[32m   Compiling\u001b[0m darling v0.20.11\n",
            "\u001b[1m\u001b[32m   Compiling\u001b[0m num_enum v0.7.3\n",
            "\u001b[1m\u001b[32m   Compiling\u001b[0m rand v0.8.5\n",
            "\u001b[1m\u001b[32m   Compiling\u001b[0m gemm-f64 v0.17.1\n",
            "\u001b[1m\u001b[32m   Compiling\u001b[0m gemm-c64 v0.17.1\n",
            "\u001b[1m\u001b[32m   Compiling\u001b[0m gemm-c32 v0.17.1\n",
            "\u001b[1m\u001b[32m   Compiling\u001b[0m safetensors v0.4.5\n",
            "\u001b[1m\u001b[32m   Compiling\u001b[0m onig_sys v69.8.1\n",
            "\u001b[1m\u001b[32m   Compiling\u001b[0m memmap2 v0.9.5\n",
            "\u001b[1m\u001b[32m   Compiling\u001b[0m libloading v0.8.6\n",
            "\u001b[1m\u001b[32m   Compiling\u001b[0m rustls v0.23.27\n",
            "\u001b[1m\u001b[32m   Compiling\u001b[0m portable-atomic v1.11.0\n",
            "\u001b[1m\u001b[32m   Compiling\u001b[0m lazy_static v1.5.0\n",
            "\u001b[1m\u001b[32m   Compiling\u001b[0m rustc-demangle v0.1.24\n",
            "\u001b[1m\u001b[32m   Compiling\u001b[0m thiserror v2.0.12\n",
            "\u001b[1m\u001b[32m   Compiling\u001b[0m backtrace v0.3.75\n",
            "\u001b[1m\u001b[32m   Compiling\u001b[0m ug v0.4.0\n",
            "\u001b[1m\u001b[32m   Compiling\u001b[0m gemm v0.17.1\n",
            "\u001b[1m\u001b[32m   Compiling\u001b[0m derive_builder_core v0.20.2\n",
            "\u001b[1m\u001b[32m   Compiling\u001b[0m url v2.5.4\n",
            "\u001b[1m\u001b[32m   Compiling\u001b[0m hyper-util v0.1.11\n",
            "\u001b[1m\u001b[32m   Compiling\u001b[0m rustls-webpki v0.103.2\n",
            "\u001b[1m\u001b[32m   Compiling\u001b[0m tokio-native-tls v0.3.1\n",
            "\u001b[1m\u001b[32m   Compiling\u001b[0m http-body-util v0.1.3\n",
            "\u001b[1m\u001b[32m   Compiling\u001b[0m webpki-roots v1.0.0\n",
            "\u001b[1m\u001b[32m   Compiling\u001b[0m fdeflate v0.3.7\n",
            "\u001b[1m\u001b[32m   Compiling\u001b[0m sync_wrapper v1.0.2\n",
            "\u001b[1m\u001b[32m   Compiling\u001b[0m safe_arch v0.7.4\n",
            "\u001b[1m\u001b[32m   Compiling\u001b[0m thiserror-impl v2.0.12\n",
            "\u001b[1m\u001b[32m   Compiling\u001b[0m matrixmultiply v0.3.9\n",
            "\u001b[1m\u001b[32m   Compiling\u001b[0m zeroize v1.8.1\n",
            "\u001b[1m\u001b[32m   Compiling\u001b[0m bit-vec v0.6.3\n",
            "\u001b[1m\u001b[32m   Compiling\u001b[0m minimal-lexical v0.2.1\n",
            "\u001b[1m\u001b[32m   Compiling\u001b[0m unicode-width v0.2.0\n",
            "\u001b[1m\u001b[32m   Compiling\u001b[0m utf8parse v0.2.2\n",
            "\u001b[1m\u001b[32m   Compiling\u001b[0m esaxx-rs v0.1.10\n",
            "\u001b[1m\u001b[32m   Compiling\u001b[0m option-ext v0.2.0\n",
            "\u001b[1m\u001b[32m   Compiling\u001b[0m base64 v0.22.1\n",
            "\u001b[1m\u001b[32m   Compiling\u001b[0m tower-layer v0.3.3\n",
            "\u001b[1m\u001b[32m   Compiling\u001b[0m zune-core v0.4.12\n",
            "\u001b[1m\u001b[32m   Compiling\u001b[0m typenum v1.18.0\n",
            "\u001b[1m\u001b[32m   Compiling\u001b[0m subtle v2.6.1\n",
            "\u001b[1m\u001b[32m   Compiling\u001b[0m zune-jpeg v0.4.14\n",
            "\u001b[1m\u001b[32m   Compiling\u001b[0m tower v0.5.2\n",
            "\u001b[1m\u001b[32m   Compiling\u001b[0m dirs-sys v0.4.1\n",
            "\u001b[1m\u001b[32m   Compiling\u001b[0m anstyle-parse v0.2.6\n",
            "\u001b[1m\u001b[32m   Compiling\u001b[0m console v0.15.11\n",
            "\u001b[1m\u001b[32m   Compiling\u001b[0m nom v7.1.3\n",
            "\u001b[1m\u001b[32m   Compiling\u001b[0m bit-set v0.5.3\n",
            "\u001b[1m\u001b[32m   Compiling\u001b[0m wide v0.7.32\n",
            "\u001b[1m\u001b[32m   Compiling\u001b[0m png v0.17.16\n",
            "\u001b[1m\u001b[32m   Compiling\u001b[0m webpki-roots v0.26.11\n",
            "\u001b[1m\u001b[32m   Compiling\u001b[0m hyper-tls v0.6.0\n",
            "\u001b[1m\u001b[32m   Compiling\u001b[0m derive_builder_macro v0.20.2\n",
            "\u001b[1m\u001b[32m   Compiling\u001b[0m candle-core v0.9.1 (/content/candle/candle-core)\n",
            "\u001b[1m\u001b[32m   Compiling\u001b[0m serde_urlencoded v0.7.1\n",
            "\u001b[1m\u001b[32m   Compiling\u001b[0m socks v0.3.4\n",
            "\u001b[1m\u001b[32m   Compiling\u001b[0m rustls-pemfile v2.2.0\n",
            "\u001b[1m\u001b[32m   Compiling\u001b[0m futures-executor v0.3.31\n",
            "\u001b[1m\u001b[32m   Compiling\u001b[0m itertools v0.11.0\n",
            "\u001b[1m\u001b[32m   Compiling\u001b[0m monostate-impl v0.1.14\n",
            "\u001b[1m\u001b[32m   Compiling\u001b[0m approx v0.5.1\n",
            "\u001b[1m\u001b[32m   Compiling\u001b[0m encoding_rs v0.8.35\n",
            "\u001b[1m\u001b[32m   Compiling\u001b[0m ttf-parser v0.25.1\n",
            "\u001b[1m\u001b[32m   Compiling\u001b[0m ipnet v2.11.0\n",
            "\u001b[1m\u001b[32m   Compiling\u001b[0m mime v0.3.17\n",
            "\u001b[1m\u001b[32m   Compiling\u001b[0m base64 v0.13.1\n",
            "\u001b[1m\u001b[32m   Compiling\u001b[0m macro_rules_attribute-proc_macro v0.2.0\n",
            "\u001b[1m\u001b[32m   Compiling\u001b[0m colorchoice v1.0.3\n",
            "\u001b[1m\u001b[32m   Compiling\u001b[0m byteorder-lite v0.1.0\n",
            "\u001b[1m\u001b[32m   Compiling\u001b[0m number_prefix v0.4.0\n",
            "\u001b[1m\u001b[32m   Compiling\u001b[0m anstyle-query v1.1.2\n",
            "\u001b[1m\u001b[32m   Compiling\u001b[0m rawpointer v0.2.1\n",
            "\u001b[1m\u001b[32m   Compiling\u001b[0m overload v0.1.1\n",
            "\u001b[1m\u001b[32m   Compiling\u001b[0m unicode-segmentation v1.12.0\n",
            "\u001b[1m\u001b[32m   Compiling\u001b[0m anstyle v1.0.10\n",
            "\u001b[1m\u001b[32m   Compiling\u001b[0m is_terminal_polyfill v1.70.1\n",
            "\u001b[1m\u001b[32m   Compiling\u001b[0m anstream v0.6.18\n",
            "\u001b[1m\u001b[32m   Compiling\u001b[0m spm_precompiled v0.1.4\n",
            "\u001b[1m\u001b[32m   Compiling\u001b[0m nu-ansi-term v0.46.0\n",
            "\u001b[1m\u001b[32m   Compiling\u001b[0m indicatif v0.17.11\n",
            "\u001b[1m\u001b[32m   Compiling\u001b[0m image v0.25.6\n",
            "\u001b[1m\u001b[32m   Compiling\u001b[0m macro_rules_attribute v0.2.0\n",
            "\u001b[1m\u001b[32m   Compiling\u001b[0m reqwest v0.12.15\n",
            "\u001b[1m\u001b[32m   Compiling\u001b[0m owned_ttf_parser v0.25.0\n",
            "\u001b[1m\u001b[32m   Compiling\u001b[0m simba v0.8.1\n",
            "\u001b[1m\u001b[32m   Compiling\u001b[0m monostate v0.1.14\n",
            "\u001b[1m\u001b[32m   Compiling\u001b[0m rayon-cond v0.3.0\n",
            "\u001b[1m\u001b[32m   Compiling\u001b[0m futures v0.3.31\n",
            "\u001b[1m\u001b[32m   Compiling\u001b[0m ureq v2.12.1\n",
            "\u001b[1m\u001b[32m   Compiling\u001b[0m candle-nn v0.9.1 (/content/candle/candle-nn)\n",
            "\u001b[1m\u001b[32m   Compiling\u001b[0m derive_builder v0.20.2\n",
            "\u001b[1m\u001b[32m   Compiling\u001b[0m onig v6.4.0\n",
            "\u001b[1m\u001b[32m   Compiling\u001b[0m candle-examples v0.9.1 (/content/candle/candle-examples)\n",
            "\u001b[1m\u001b[32m   Compiling\u001b[0m fancy-regex v0.13.0\n",
            "\u001b[1m\u001b[32m   Compiling\u001b[0m dirs v5.0.1\n",
            "\u001b[1m\u001b[32m   Compiling\u001b[0m sharded-slab v0.1.7\n",
            "\u001b[1m\u001b[32m   Compiling\u001b[0m regex v1.10.6\n",
            "\u001b[1m\u001b[32m   Compiling\u001b[0m tracing-log v0.2.0\n",
            "\u001b[1m\u001b[32m   Compiling\u001b[0m serde_plain v1.0.2\n",
            "\u001b[1m\u001b[32m   Compiling\u001b[0m unicode-normalization-alignments v0.1.12\n",
            "\u001b[1m\u001b[32m   Compiling\u001b[0m itertools v0.13.0\n",
            "\u001b[1m\u001b[32m   Compiling\u001b[0m csv-core v0.1.12\n",
            "\u001b[1m\u001b[32m   Compiling\u001b[0m thread_local v1.1.8\n",
            "\u001b[1m\u001b[32m   Compiling\u001b[0m custom_derive v0.1.7\n",
            "\u001b[1m\u001b[32m   Compiling\u001b[0m unicode_categories v0.1.1\n",
            "\u001b[1m\u001b[32m   Compiling\u001b[0m ab_glyph_rasterizer v0.1.8\n",
            "\u001b[1m\u001b[32m   Compiling\u001b[0m heck v0.5.0\n",
            "\u001b[1m\u001b[32m   Compiling\u001b[0m clap_lex v0.7.4\n",
            "\u001b[1m\u001b[32m   Compiling\u001b[0m clap_builder v4.5.37\n",
            "\u001b[1m\u001b[32m   Compiling\u001b[0m clap_derive v4.5.32\n",
            "\u001b[1m\u001b[32m   Compiling\u001b[0m ab_glyph v0.2.29\n",
            "\u001b[1m\u001b[32m   Compiling\u001b[0m tokenizers v0.21.1\n",
            "\u001b[1m\u001b[32m   Compiling\u001b[0m conv v0.3.3\n",
            "\u001b[1m\u001b[32m   Compiling\u001b[0m tracing-subscriber v0.3.19\n",
            "\u001b[1m\u001b[32m   Compiling\u001b[0m csv v1.3.1\n",
            "\u001b[1m\u001b[32m   Compiling\u001b[0m candle-transformers v0.9.1 (/content/candle/candle-transformers)\n",
            "\u001b[1m\u001b[32m   Compiling\u001b[0m nalgebra v0.32.6\n",
            "\u001b[1m\u001b[32m   Compiling\u001b[0m hf-hub v0.4.2\n",
            "\u001b[1m\u001b[32m   Compiling\u001b[0m rand_distr v0.4.3\n",
            "\u001b[1m\u001b[32m   Compiling\u001b[0m itertools v0.12.1\n",
            "\u001b[1m\u001b[32m   Compiling\u001b[0m imageproc v0.24.0\n",
            "\u001b[1m\u001b[32m   Compiling\u001b[0m tracing-chrome v0.7.2\n",
            "\u001b[1m\u001b[32m   Compiling\u001b[0m clap v4.5.37\n",
            "\u001b[1m\u001b[32m    Finished\u001b[0m `release` profile [optimized] target(s) in 14m 09s\n",
            "\u001b[1m\u001b[32m     Running\u001b[0m `/content/candle/target/release/examples/phi --model 2 --prompt 'A skier slides down a frictionless slope of height 40m and length 80m. What'\\''s the skier speed at the bottom?'`\n",
            "avx: true, neon: false, simd128: false, f16c: true\n",
            "temp: 0.00 repeat-penalty: 1.10 repeat-last-n: 64\n",
            "\u001b[2K\u001b[1A..del-00001-of-00002.safetensors [00:00:43] [] 4.65 GiB/4.65 GiB 231.67 MiB/s (0s)                                                                              retrieved the files in 49.179162086s\n",
            "Running on CPU, to run on GPU, build this example with `--features cuda`\n",
            "\u001b[2Kconfig.json [00:00:00] [████████████████████████████████████] 735 B/735 B - (0s)loaded the model in 35.407581989s\n",
            "starting the inference loop\n",
            "A skier slides down a frictionless slope of height 40m and length 80m. What's the skier speed at the bottom?\n",
            "\n",
            "Solution:\n",
            "The potential energy of the skier is converted into kinetic energy as it slides down the slope. The formula for potential energy is mgh, where m is mass, g is acceleration due to gravity (9.8 m/s^2), and h is height. Since there's no friction, all the potential energy is converted into kinetic energy at the bottom of the slope. The formula for kinetic energy is 1/2mv^2, where v is velocity. We can equate these two formulas:\n",
            "mgh = 1/2mv^2\n",
            "Solving for v, we get:\n",
            "v = sqrt(2gh)\n",
            "Substituting the given values, we get:\n",
            "v = sqrt(2*9.8*40) = 28 m/s\n",
            "Therefore, the skier speed at the bottom of the slope is 28 m/s. \n",
            "188 tokens generated (0.76 token/s)\n"
          ]
        }
      ]
    },
    {
      "cell_type": "markdown",
      "source": [
        "https://github.com/huggingface/candle/tree/main/candle-examples/examples/phi"
      ],
      "metadata": {
        "id": "q7NmHTfzr_qu"
      }
    },
    {
      "cell_type": "markdown",
      "source": [
        "https://github.com/ToluClassics/candle-tutorial"
      ],
      "metadata": {
        "id": "URjVP6fcsJ9W"
      }
    },
    {
      "cell_type": "code",
      "source": [
        "%cd /content/candle/candle-examples/examples/mistral\n",
        "!cargo run --example mistral --release  -- --prompt 'Write helloworld code in Rust' --sample-len 150"
      ],
      "metadata": {
        "colab": {
          "base_uri": "https://localhost:8080/"
        },
        "id": "MZxlVq9csKfu",
        "outputId": "5cc82a15-0f41-4fd2-a216-a55666901ab3"
      },
      "execution_count": 5,
      "outputs": [
        {
          "output_type": "stream",
          "name": "stdout",
          "text": [
            "/content/candle/candle-examples/examples/mistral\n",
            "\u001b[1m\u001b[32m   Compiling\u001b[0m candle-examples v0.9.1 (/content/candle/candle-examples)\n",
            "\u001b[1m\u001b[32m    Finished\u001b[0m `release` profile [optimized] target(s) in 36.17s\n",
            "\u001b[1m\u001b[32m     Running\u001b[0m `/content/candle/target/release/examples/mistral --prompt 'Write helloworld code in Rust' --sample-len 150`\n",
            "avx: true, neon: false, simd128: false, f16c: true\n",
            "temp: 0.00 repeat-penalty: 1.10 repeat-last-n: 64\n",
            "Error: request error: https://huggingface.co/mistralai/Mistral-7B-v0.1/resolve/main/tokenizer.json: status code 401\n",
            "\n",
            "Caused by:\n",
            "    https://huggingface.co/mistralai/Mistral-7B-v0.1/resolve/main/tokenizer.json: status code 401\n"
          ]
        }
      ]
    },
    {
      "source": [
        "import os\n",
        "os.environ['HUGGING_FACE_HUB_TOKEN'] = 'XXXX'"
      ],
      "cell_type": "code",
      "metadata": {
        "id": "g_I5rraqwWeY"
      },
      "execution_count": 6,
      "outputs": []
    },
    {
      "cell_type": "code",
      "source": [
        "import os\n",
        "os.environ['PATH'] += \":/root/.cargo/bin\"\n",
        "\n",
        "!cargo --version"
      ],
      "metadata": {
        "colab": {
          "base_uri": "https://localhost:8080/"
        },
        "id": "fFh4STdOv0wB",
        "outputId": "f03f2c02-f984-4a90-8d0e-ad5e3db3b376"
      },
      "execution_count": 2,
      "outputs": [
        {
          "output_type": "stream",
          "name": "stdout",
          "text": [
            "cargo 1.86.0 (adf9b6ad1 2025-02-28)\n"
          ]
        }
      ]
    },
    {
      "source": [
        "%cd /content/candle/candle-examples/examples/mistral\n",
        "!cargo run --example mistral --release  -- --prompt 'Write helloworld code in Rust'  --use-f32"
      ],
      "cell_type": "code",
      "metadata": {
        "colab": {
          "base_uri": "https://localhost:8080/"
        },
        "id": "2VvNpt0kwW-v",
        "outputId": "f76d6e5f-b278-4c8d-e581-8e903d07591b"
      },
      "execution_count": 4,
      "outputs": [
        {
          "output_type": "stream",
          "name": "stdout",
          "text": [
            "/content/candle/candle-examples/examples/mistral\n",
            "\u001b[1m\u001b[32m    Finished\u001b[0m `release` profile [optimized] target(s) in 0.42s\n",
            "\u001b[1m\u001b[32m     Running\u001b[0m `/content/candle/target/release/examples/mistral --prompt 'Write helloworld code in Rust'`\n",
            "avx: true, neon: false, simd128: false, f16c: true\n",
            "temp: 0.00 repeat-penalty: 1.10 repeat-last-n: 64\n",
            "Error: request error: https://huggingface.co/mistralai/Mistral-7B-v0.1/resolve/main/tokenizer.json: status code 401\n",
            "\n",
            "Caused by:\n",
            "    https://huggingface.co/mistralai/Mistral-7B-v0.1/resolve/main/tokenizer.json: status code 401\n"
          ]
        }
      ]
    },
    {
      "source": [
        "%cd /content/candle/candle-examples/examples/mistral\n",
        "!cargo run --example mixtral --release  -- --prompt 'Write helloworld code in Rust'"
      ],
      "cell_type": "code",
      "metadata": {
        "colab": {
          "base_uri": "https://localhost:8080/"
        },
        "id": "_Z4LbQIHw0C-",
        "outputId": "194a63bc-ada7-4cd8-e12a-1f621945d6c3"
      },
      "execution_count": 5,
      "outputs": [
        {
          "output_type": "stream",
          "name": "stdout",
          "text": [
            "/content/candle/candle-examples/examples/mistral\n",
            "\u001b[1m\u001b[32m   Compiling\u001b[0m candle-examples v0.9.1 (/content/candle/candle-examples)\n",
            "\u001b[1m\u001b[32m    Finished\u001b[0m `release` profile [optimized] target(s) in 24.90s\n",
            "\u001b[1m\u001b[32m     Running\u001b[0m `/content/candle/target/release/examples/mixtral --prompt 'Write helloworld code in Rust'`\n",
            "avx: true, neon: false, simd128: false, f16c: true\n",
            "temp: 0.00 repeat-penalty: 1.10 repeat-last-n: 64\n",
            "Error: request error: https://huggingface.co/mistralai/Mixtral-8x7B-v0.1/resolve/main/tokenizer.json: status code 401\n",
            "\n",
            "Caused by:\n",
            "    https://huggingface.co/mistralai/Mixtral-8x7B-v0.1/resolve/main/tokenizer.json: status code 401\n"
          ]
        }
      ]
    },
    {
      "cell_type": "code",
      "source": [
        "%cd /content/candle/candle-examples/examples/mistral\n",
        "!cargo run --example mistral -- --use-f32 --release  -- --prompt 'Write helloworld code in Rust' --use-f32"
      ],
      "metadata": {
        "colab": {
          "base_uri": "https://localhost:8080/"
        },
        "id": "TEww-qqEwlRY",
        "outputId": "bb31544c-b8f2-4076-d9a6-b63a5579d7db"
      },
      "execution_count": 9,
      "outputs": [
        {
          "output_type": "stream",
          "name": "stdout",
          "text": [
            "/content/candle/candle-examples/examples/mistral\n",
            "\u001b[1m\u001b[32m   Compiling\u001b[0m proc-macro2 v1.0.95\n",
            "\u001b[1m\u001b[32m   Compiling\u001b[0m unicode-ident v1.0.18\n",
            "\u001b[1m\u001b[32m   Compiling\u001b[0m libc v0.2.172\n",
            "\u001b[1m\u001b[32m   Compiling\u001b[0m quote v1.0.40\n",
            "\u001b[1m\u001b[32m   Compiling\u001b[0m cfg-if v1.0.0\n",
            "\u001b[1m\u001b[32m   Compiling\u001b[0m autocfg v1.4.0\n",
            "\u001b[1m\u001b[32m   Compiling\u001b[0m syn v2.0.101\n",
            "\u001b[1m\u001b[32m   Compiling\u001b[0m once_cell v1.19.0\n",
            "\u001b[1m\u001b[32m   Compiling\u001b[0m libm v0.2.14\n",
            "\u001b[1m\u001b[32m   Compiling\u001b[0m num-traits v0.2.19\n",
            "\u001b[1m\u001b[32m   Compiling\u001b[0m zerocopy v0.8.25\n",
            "\u001b[1m\u001b[32m   Compiling\u001b[0m memchr v2.7.4\n",
            "\u001b[1m\u001b[32m   Compiling\u001b[0m bytemuck_derive v1.9.3\n",
            "\u001b[1m\u001b[32m   Compiling\u001b[0m ppv-lite86 v0.2.21\n",
            "\u001b[1m\u001b[32m   Compiling\u001b[0m crossbeam-utils v0.8.21\n",
            "\u001b[1m\u001b[32m   Compiling\u001b[0m getrandom v0.3.2\n",
            "\u001b[1m\u001b[32m   Compiling\u001b[0m either v1.15.0\n",
            "\u001b[1m\u001b[32m   Compiling\u001b[0m paste v1.0.15\n",
            "\u001b[1m\u001b[32m   Compiling\u001b[0m bytemuck v1.23.0\n",
            "\u001b[1m\u001b[32m   Compiling\u001b[0m num-complex v0.4.6\n",
            "\u001b[1m\u001b[32m   Compiling\u001b[0m shlex v1.3.0\n",
            "\u001b[1m\u001b[32m   Compiling\u001b[0m crossbeam-epoch v0.9.18\n",
            "\u001b[1m\u001b[32m   Compiling\u001b[0m cc v1.2.21\n",
            "\u001b[1m\u001b[32m   Compiling\u001b[0m rayon-core v1.12.1\n",
            "\u001b[1m\u001b[32m   Compiling\u001b[0m rand_core v0.9.3\n",
            "\u001b[1m\u001b[32m   Compiling\u001b[0m crossbeam-deque v0.8.6\n",
            "\u001b[1m\u001b[32m   Compiling\u001b[0m synstructure v0.13.2\n",
            "\u001b[1m\u001b[32m   Compiling\u001b[0m rand_chacha v0.9.0\n",
            "\u001b[1m\u001b[32m   Compiling\u001b[0m reborrow v0.5.5\n",
            "\u001b[1m\u001b[32m   Compiling\u001b[0m rand v0.9.1\n",
            "\u001b[1m\u001b[32m   Compiling\u001b[0m zerofrom-derive v0.1.6\n",
            "\u001b[1m\u001b[32m   Compiling\u001b[0m rayon v1.10.0\n",
            "\u001b[1m\u001b[32m   Compiling\u001b[0m stable_deref_trait v1.2.0\n",
            "\u001b[1m\u001b[32m   Compiling\u001b[0m itoa v1.0.15\n",
            "\u001b[1m\u001b[32m   Compiling\u001b[0m zerofrom v0.1.6\n",
            "\u001b[1m\u001b[32m   Compiling\u001b[0m rand_distr v0.5.1\n",
            "\u001b[1m\u001b[32m   Compiling\u001b[0m yoke-derive v0.7.5\n",
            "\u001b[1m\u001b[32m   Compiling\u001b[0m bitflags v2.9.0\n",
            "\u001b[1m\u001b[32m   Compiling\u001b[0m pin-project-lite v0.2.16\n",
            "\u001b[1m\u001b[32m   Compiling\u001b[0m half v2.6.0\n",
            "\u001b[1m\u001b[32m   Compiling\u001b[0m seq-macro v0.3.6\n",
            "\u001b[1m\u001b[32m   Compiling\u001b[0m serde v1.0.219\n",
            "\u001b[1m\u001b[32m   Compiling\u001b[0m yoke v0.7.5\n",
            "\u001b[1m\u001b[32m   Compiling\u001b[0m displaydoc v0.2.5\n",
            "\u001b[1m\u001b[32m   Compiling\u001b[0m serde_derive v1.0.219\n",
            "\u001b[1m\u001b[32m   Compiling\u001b[0m pkg-config v0.3.32\n",
            "\u001b[1m\u001b[32m   Compiling\u001b[0m fnv v1.0.7\n",
            "\u001b[1m\u001b[32m   Compiling\u001b[0m bitflags v1.3.2\n",
            "\u001b[1m\u001b[32m   Compiling\u001b[0m hashbrown v0.15.3\n",
            "\u001b[1m\u001b[32m   Compiling\u001b[0m equivalent v1.0.2\n",
            "\u001b[1m\u001b[32m   Compiling\u001b[0m indexmap v2.9.0\n",
            "\u001b[1m\u001b[32m   Compiling\u001b[0m zerovec-derive v0.10.3\n",
            "\u001b[1m\u001b[32m   Compiling\u001b[0m tracing-core v0.1.33\n",
            "\u001b[1m\u001b[32m   Compiling\u001b[0m futures-core v0.3.31\n",
            "\u001b[1m\u001b[32m   Compiling\u001b[0m version_check v0.9.5\n",
            "\u001b[1m\u001b[32m   Compiling\u001b[0m adler2 v2.0.0\n",
            "\u001b[1m\u001b[32m   Compiling\u001b[0m smallvec v1.15.0\n",
            "\u001b[1m\u001b[32m   Compiling\u001b[0m pulp v0.21.5\n",
            "\u001b[1m\u001b[32m   Compiling\u001b[0m zerovec v0.10.4\n",
            "\u001b[1m\u001b[32m   Compiling\u001b[0m bytes v1.10.1\n",
            "\u001b[1m\u001b[32m   Compiling\u001b[0m ryu v1.0.20\n",
            "\u001b[1m\u001b[32m   Compiling\u001b[0m slab v0.4.9\n",
            "\u001b[1m\u001b[32m   Compiling\u001b[0m serde_json v1.0.140\n",
            "\u001b[1m\u001b[32m   Compiling\u001b[0m futures-sink v0.3.31\n",
            "\u001b[1m\u001b[32m   Compiling\u001b[0m vcpkg v0.2.15\n",
            "\u001b[1m\u001b[32m   Compiling\u001b[0m openssl-sys v0.9.108\n",
            "\u001b[1m\u001b[32m   Compiling\u001b[0m tinystr v0.7.6\n",
            "\u001b[1m\u001b[32m   Compiling\u001b[0m raw-cpuid v11.5.0\n",
            "\u001b[1m\u001b[32m   Compiling\u001b[0m dyn-stack v0.13.0\n",
            "\u001b[1m\u001b[32m   Compiling\u001b[0m tracing-attributes v0.1.28\n",
            "\u001b[1m\u001b[32m   Compiling\u001b[0m getrandom v0.2.16\n",
            "\u001b[1m\u001b[32m   Compiling\u001b[0m writeable v0.5.5\n",
            "\u001b[1m\u001b[32m   Compiling\u001b[0m log v0.4.27\n",
            "\u001b[1m\u001b[32m   Compiling\u001b[0m litemap v0.7.5\n",
            "\u001b[1m\u001b[32m   Compiling\u001b[0m icu_locid_transform_data v1.5.1\n",
            "\u001b[1m\u001b[32m   Compiling\u001b[0m icu_locid v1.5.0\n",
            "\u001b[1m\u001b[32m   Compiling\u001b[0m tracing v0.1.41\n",
            "\u001b[1m\u001b[32m   Compiling\u001b[0m gemm-common v0.18.2\n",
            "\u001b[1m\u001b[32m   Compiling\u001b[0m raw-cpuid v10.7.0\n",
            "\u001b[1m\u001b[32m   Compiling\u001b[0m dyn-stack v0.10.0\n",
            "\u001b[1m\u001b[32m   Compiling\u001b[0m pulp v0.18.22\n",
            "\u001b[1m\u001b[32m   Compiling\u001b[0m icu_provider_macros v1.5.0\n",
            "\u001b[1m\u001b[32m   Compiling\u001b[0m tokio-macros v2.5.0\n",
            "\u001b[1m\u001b[32m   Compiling\u001b[0m num-integer v0.1.46\n",
            "\u001b[1m\u001b[32m   Compiling\u001b[0m crc32fast v1.4.2\n",
            "\u001b[1m\u001b[32m   Compiling\u001b[0m socket2 v0.5.9\n",
            "\u001b[1m\u001b[32m   Compiling\u001b[0m mio v1.0.3\n",
            "\u001b[1m\u001b[32m   Compiling\u001b[0m icu_properties_data v1.5.1\n",
            "\u001b[1m\u001b[32m   Compiling\u001b[0m simd-adler32 v0.3.7\n",
            "\u001b[1m\u001b[32m   Compiling\u001b[0m tokio v1.45.0\n",
            "\u001b[1m\u001b[32m   Compiling\u001b[0m gemm-common v0.17.1\n",
            "\u001b[1m\u001b[32m   Compiling\u001b[0m icu_provider v1.5.0\n",
            "\u001b[1m\u001b[32m   Compiling\u001b[0m futures-channel v0.3.31\n",
            "\u001b[1m\u001b[32m   Compiling\u001b[0m futures-macro v0.3.31\n",
            "\u001b[1m\u001b[32m   Compiling\u001b[0m icu_normalizer_data v1.5.1\n",
            "\u001b[1m\u001b[32m   Compiling\u001b[0m futures-io v0.3.31\n",
            "\u001b[1m\u001b[32m   Compiling\u001b[0m pin-utils v0.1.0\n",
            "\u001b[1m\u001b[32m   Compiling\u001b[0m futures-task v0.3.31\n",
            "\u001b[1m\u001b[32m   Compiling\u001b[0m strsim v0.11.1\n",
            "\u001b[1m\u001b[32m   Compiling\u001b[0m object v0.36.7\n",
            "\u001b[1m\u001b[32m   Compiling\u001b[0m futures-util v0.3.31\n",
            "\u001b[1m\u001b[32m   Compiling\u001b[0m icu_locid_transform v1.5.0\n",
            "\u001b[1m\u001b[32m   Compiling\u001b[0m miniz_oxide v0.8.8\n",
            "\u001b[1m\u001b[32m   Compiling\u001b[0m num-bigint v0.4.6\n",
            "\u001b[1m\u001b[32m   Compiling\u001b[0m http v1.3.1\n",
            "\u001b[1m\u001b[32m   Compiling\u001b[0m icu_collections v1.5.0\n",
            "\u001b[1m\u001b[32m   Compiling\u001b[0m openssl v0.10.72\n",
            "\u001b[1m\u001b[32m   Compiling\u001b[0m rustls-pki-types v1.11.0\n",
            "\u001b[1m\u001b[32m   Compiling\u001b[0m toml_datetime v0.6.9\n",
            "\u001b[1m\u001b[32m   Compiling\u001b[0m foreign-types-shared v0.1.1\n",
            "\u001b[1m\u001b[32m   Compiling\u001b[0m winnow v0.7.10\n",
            "\u001b[1m\u001b[32m   Compiling\u001b[0m foreign-types v0.3.2\n",
            "\u001b[1m\u001b[32m   Compiling\u001b[0m icu_properties v1.5.1\n",
            "\u001b[1m\u001b[32m   Compiling\u001b[0m toml_edit v0.22.26\n",
            "\u001b[1m\u001b[32m   Compiling\u001b[0m num-rational v0.4.2\n",
            "\u001b[1m\u001b[32m   Compiling\u001b[0m ring v0.17.14\n",
            "\u001b[1m\u001b[32m   Compiling\u001b[0m openssl-macros v0.1.1\n",
            "\u001b[1m\u001b[32m   Compiling\u001b[0m utf8_iter v1.0.4\n",
            "\u001b[1m\u001b[32m   Compiling\u001b[0m thiserror v1.0.69\n",
            "\u001b[1m\u001b[32m   Compiling\u001b[0m utf16_iter v1.0.5\n",
            "\u001b[1m\u001b[32m   Compiling\u001b[0m native-tls v0.2.14\n",
            "\u001b[1m\u001b[32m   Compiling\u001b[0m write16 v1.0.0\n",
            "\u001b[1m\u001b[32m   Compiling\u001b[0m ident_case v1.0.1\n",
            "\u001b[1m\u001b[32m   Compiling\u001b[0m gimli v0.31.1\n",
            "\u001b[1m\u001b[32m   Compiling\u001b[0m httparse v1.10.1\n",
            "\u001b[1m\u001b[32m   Compiling\u001b[0m darling_core v0.20.11\n",
            "\u001b[1m\u001b[32m   Compiling\u001b[0m addr2line v0.24.2\n",
            "\u001b[1m\u001b[32m   Compiling\u001b[0m icu_normalizer v1.5.0\n",
            "\u001b[1m\u001b[32m   Compiling\u001b[0m proc-macro-crate v3.3.0\n",
            "\u001b[1m\u001b[32m   Compiling\u001b[0m http-body v1.0.1\n",
            "\u001b[1m\u001b[32m   Compiling\u001b[0m tokio-util v0.7.15\n",
            "\u001b[1m\u001b[32m   Compiling\u001b[0m num-iter v0.1.45\n",
            "\u001b[1m\u001b[32m   Compiling\u001b[0m gemm-f32 v0.18.2\n",
            "\u001b[1m\u001b[32m   Compiling\u001b[0m rand_core v0.6.4\n",
            "\u001b[1m\u001b[32m   Compiling\u001b[0m thiserror-impl v1.0.69\n",
            "\u001b[1m\u001b[32m   Compiling\u001b[0m atomic-waker v1.1.2\n",
            "\u001b[1m\u001b[32m   Compiling\u001b[0m openssl-probe v0.1.6\n",
            "\u001b[1m\u001b[32m   Compiling\u001b[0m rustc-demangle v0.1.24\n",
            "\u001b[1m\u001b[32m   Compiling\u001b[0m try-lock v0.2.5\n",
            "\u001b[1m\u001b[32m   Compiling\u001b[0m byteorder v1.5.0\n",
            "\u001b[1m\u001b[32m   Compiling\u001b[0m percent-encoding v2.3.1\n",
            "\u001b[1m\u001b[32m   Compiling\u001b[0m form_urlencoded v1.2.1\n",
            "\u001b[1m\u001b[32m   Compiling\u001b[0m want v0.3.1\n",
            "\u001b[1m\u001b[32m   Compiling\u001b[0m h2 v0.4.10\n",
            "\u001b[1m\u001b[32m   Compiling\u001b[0m gemm-f16 v0.18.2\n",
            "\u001b[1m\u001b[32m   Compiling\u001b[0m rand_chacha v0.3.1\n",
            "\u001b[1m\u001b[32m   Compiling\u001b[0m num v0.4.3\n",
            "\u001b[1m\u001b[32m   Compiling\u001b[0m num_enum_derive v0.7.3\n",
            "\u001b[1m\u001b[32m   Compiling\u001b[0m idna_adapter v1.2.0\n",
            "\u001b[1m\u001b[32m   Compiling\u001b[0m darling_macro v0.20.11\n",
            "\u001b[1m\u001b[32m   Compiling\u001b[0m flate2 v1.1.1\n",
            "\u001b[1m\u001b[32m   Compiling\u001b[0m gemm-f32 v0.17.1\n",
            "\u001b[1m\u001b[32m   Compiling\u001b[0m gemm-c32 v0.18.2\n",
            "\u001b[1m\u001b[32m   Compiling\u001b[0m gemm-c64 v0.18.2\n",
            "\u001b[1m\u001b[32m   Compiling\u001b[0m gemm-f64 v0.18.2\n",
            "\u001b[1m\u001b[32m   Compiling\u001b[0m aho-corasick v1.1.3\n",
            "\u001b[1m\u001b[32m   Compiling\u001b[0m num_cpus v1.16.0\n",
            "\u001b[1m\u001b[32m   Compiling\u001b[0m regex-syntax v0.8.5\n",
            "\u001b[1m\u001b[32m   Compiling\u001b[0m anyhow v1.0.98\n",
            "\u001b[1m\u001b[32m   Compiling\u001b[0m tower-service v0.3.3\n",
            "\u001b[1m\u001b[32m   Compiling\u001b[0m untrusted v0.9.0\n",
            "\u001b[1m\u001b[32m   Compiling\u001b[0m zip v1.1.4\n",
            "\u001b[1m\u001b[32m   Compiling\u001b[0m regex-automata v0.4.9\n",
            "\u001b[1m\u001b[32m   Compiling\u001b[0m gemm v0.18.2\n",
            "\u001b[1m\u001b[32m   Compiling\u001b[0m gemm-f16 v0.17.1\n",
            "\u001b[1m\u001b[32m   Compiling\u001b[0m hyper v1.6.0\n",
            "\u001b[1m\u001b[32m   Compiling\u001b[0m darling v0.20.11\n",
            "\u001b[1m\u001b[32m   Compiling\u001b[0m idna v1.0.3\n",
            "\u001b[1m\u001b[32m   Compiling\u001b[0m num_enum v0.7.3\n",
            "\u001b[1m\u001b[32m   Compiling\u001b[0m rand v0.8.5\n",
            "\u001b[1m\u001b[32m   Compiling\u001b[0m gemm-c64 v0.17.1\n",
            "\u001b[1m\u001b[32m   Compiling\u001b[0m gemm-f64 v0.17.1\n",
            "\u001b[1m\u001b[32m   Compiling\u001b[0m gemm-c32 v0.17.1\n",
            "\u001b[1m\u001b[32m   Compiling\u001b[0m safetensors v0.4.5\n",
            "\u001b[1m\u001b[32m   Compiling\u001b[0m onig_sys v69.8.1\n",
            "\u001b[1m\u001b[32m   Compiling\u001b[0m memmap2 v0.9.5\n",
            "\u001b[1m\u001b[32m   Compiling\u001b[0m libloading v0.8.6\n",
            "\u001b[1m\u001b[32m   Compiling\u001b[0m thiserror v2.0.12\n",
            "\u001b[1m\u001b[32m   Compiling\u001b[0m portable-atomic v1.11.0\n",
            "\u001b[1m\u001b[32m   Compiling\u001b[0m rustls v0.23.27\n",
            "\u001b[1m\u001b[32m   Compiling\u001b[0m lazy_static v1.5.0\n",
            "\u001b[1m\u001b[32m   Compiling\u001b[0m ug v0.4.0\n",
            "\u001b[1m\u001b[32m   Compiling\u001b[0m backtrace v0.3.75\n",
            "\u001b[1m\u001b[32m   Compiling\u001b[0m gemm v0.17.1\n",
            "\u001b[1m\u001b[32m   Compiling\u001b[0m url v2.5.4\n",
            "\u001b[1m\u001b[32m   Compiling\u001b[0m derive_builder_core v0.20.2\n",
            "\u001b[1m\u001b[32m   Compiling\u001b[0m hyper-util v0.1.11\n",
            "\u001b[1m\u001b[32m   Compiling\u001b[0m rustls-webpki v0.103.2\n",
            "\u001b[1m\u001b[32m   Compiling\u001b[0m tokio-native-tls v0.3.1\n",
            "\u001b[1m\u001b[32m   Compiling\u001b[0m http-body-util v0.1.3\n",
            "\u001b[1m\u001b[32m   Compiling\u001b[0m webpki-roots v1.0.0\n",
            "\u001b[1m\u001b[32m   Compiling\u001b[0m fdeflate v0.3.7\n",
            "\u001b[1m\u001b[32m   Compiling\u001b[0m sync_wrapper v1.0.2\n",
            "\u001b[1m\u001b[32m   Compiling\u001b[0m safe_arch v0.7.4\n",
            "\u001b[1m\u001b[32m   Compiling\u001b[0m thiserror-impl v2.0.12\n",
            "\u001b[1m\u001b[32m   Compiling\u001b[0m matrixmultiply v0.3.9\n",
            "\u001b[1m\u001b[32m   Compiling\u001b[0m zeroize v1.8.1\n",
            "\u001b[1m\u001b[32m   Compiling\u001b[0m zune-core v0.4.12\n",
            "\u001b[1m\u001b[32m   Compiling\u001b[0m bit-vec v0.6.3\n",
            "\u001b[1m\u001b[32m   Compiling\u001b[0m subtle v2.6.1\n",
            "\u001b[1m\u001b[32m   Compiling\u001b[0m unicode-width v0.2.0\n",
            "\u001b[1m\u001b[32m   Compiling\u001b[0m minimal-lexical v0.2.1\n",
            "\u001b[1m\u001b[32m   Compiling\u001b[0m option-ext v0.2.0\n",
            "\u001b[1m\u001b[32m   Compiling\u001b[0m base64 v0.22.1\n",
            "\u001b[1m\u001b[32m   Compiling\u001b[0m tower-layer v0.3.3\n",
            "\u001b[1m\u001b[32m   Compiling\u001b[0m esaxx-rs v0.1.10\n",
            "\u001b[1m\u001b[32m   Compiling\u001b[0m utf8parse v0.2.2\n",
            "\u001b[1m\u001b[32m   Compiling\u001b[0m typenum v1.18.0\n",
            "\u001b[1m\u001b[32m   Compiling\u001b[0m anstyle-parse v0.2.6\n",
            "\u001b[1m\u001b[32m   Compiling\u001b[0m tower v0.5.2\n",
            "\u001b[1m\u001b[32m   Compiling\u001b[0m dirs-sys v0.4.1\n",
            "\u001b[1m\u001b[32m   Compiling\u001b[0m nom v7.1.3\n",
            "\u001b[1m\u001b[32m   Compiling\u001b[0m console v0.15.11\n",
            "\u001b[1m\u001b[32m   Compiling\u001b[0m bit-set v0.5.3\n",
            "\u001b[1m\u001b[32m   Compiling\u001b[0m zune-jpeg v0.4.14\n",
            "\u001b[1m\u001b[32m   Compiling\u001b[0m wide v0.7.32\n",
            "\u001b[1m\u001b[32m   Compiling\u001b[0m png v0.17.16\n",
            "\u001b[1m\u001b[32m   Compiling\u001b[0m webpki-roots v0.26.11\n",
            "\u001b[1m\u001b[32m   Compiling\u001b[0m hyper-tls v0.6.0\n",
            "\u001b[1m\u001b[32m   Compiling\u001b[0m derive_builder_macro v0.20.2\n",
            "\u001b[1m\u001b[32m   Compiling\u001b[0m candle-core v0.9.1 (/content/candle/candle-core)\n",
            "\u001b[1m\u001b[32m   Compiling\u001b[0m serde_urlencoded v0.7.1\n",
            "\u001b[1m\u001b[32m   Compiling\u001b[0m socks v0.3.4\n",
            "\u001b[1m\u001b[32m   Compiling\u001b[0m rustls-pemfile v2.2.0\n",
            "\u001b[1m\u001b[32m   Compiling\u001b[0m futures-executor v0.3.31\n",
            "\u001b[1m\u001b[32m   Compiling\u001b[0m itertools v0.11.0\n",
            "\u001b[1m\u001b[32m   Compiling\u001b[0m monostate-impl v0.1.14\n",
            "\u001b[1m\u001b[32m   Compiling\u001b[0m approx v0.5.1\n",
            "\u001b[1m\u001b[32m   Compiling\u001b[0m encoding_rs v0.8.35\n",
            "\u001b[1m\u001b[32m   Compiling\u001b[0m anstyle-query v1.1.2\n",
            "\u001b[1m\u001b[32m   Compiling\u001b[0m ipnet v2.11.0\n",
            "\u001b[1m\u001b[32m   Compiling\u001b[0m overload v0.1.1\n",
            "\u001b[1m\u001b[32m   Compiling\u001b[0m anstyle v1.0.10\n",
            "\u001b[1m\u001b[32m   Compiling\u001b[0m base64 v0.13.1\n",
            "\u001b[1m\u001b[32m   Compiling\u001b[0m ttf-parser v0.25.1\n",
            "\u001b[1m\u001b[32m   Compiling\u001b[0m number_prefix v0.4.0\n",
            "\u001b[1m\u001b[32m   Compiling\u001b[0m mime v0.3.17\n",
            "\u001b[1m\u001b[32m   Compiling\u001b[0m colorchoice v1.0.3\n",
            "\u001b[1m\u001b[32m   Compiling\u001b[0m macro_rules_attribute-proc_macro v0.2.0\n",
            "\u001b[1m\u001b[32m   Compiling\u001b[0m is_terminal_polyfill v1.70.1\n",
            "\u001b[1m\u001b[32m   Compiling\u001b[0m byteorder-lite v0.1.0\n",
            "\u001b[1m\u001b[32m   Compiling\u001b[0m rawpointer v0.2.1\n",
            "\u001b[1m\u001b[32m   Compiling\u001b[0m unicode-segmentation v1.12.0\n",
            "\u001b[1m\u001b[32m   Compiling\u001b[0m spm_precompiled v0.1.4\n",
            "\u001b[1m\u001b[32m   Compiling\u001b[0m image v0.25.6\n",
            "\u001b[1m\u001b[32m   Compiling\u001b[0m anstream v0.6.18\n",
            "\u001b[1m\u001b[32m   Compiling\u001b[0m macro_rules_attribute v0.2.0\n",
            "\u001b[1m\u001b[32m   Compiling\u001b[0m reqwest v0.12.15\n",
            "\u001b[1m\u001b[32m   Compiling\u001b[0m indicatif v0.17.11\n",
            "\u001b[1m\u001b[32m   Compiling\u001b[0m owned_ttf_parser v0.25.0\n",
            "\u001b[1m\u001b[32m   Compiling\u001b[0m nu-ansi-term v0.46.0\n",
            "\u001b[1m\u001b[32m   Compiling\u001b[0m candle-nn v0.9.1 (/content/candle/candle-nn)\n",
            "\u001b[1m\u001b[32m   Compiling\u001b[0m simba v0.8.1\n",
            "\u001b[1m\u001b[32m   Compiling\u001b[0m monostate v0.1.14\n",
            "\u001b[1m\u001b[32m   Compiling\u001b[0m rayon-cond v0.3.0\n",
            "\u001b[1m\u001b[32m   Compiling\u001b[0m futures v0.3.31\n",
            "\u001b[1m\u001b[32m   Compiling\u001b[0m ureq v2.12.1\n",
            "\u001b[1m\u001b[32m   Compiling\u001b[0m candle-examples v0.9.1 (/content/candle/candle-examples)\n",
            "\u001b[1m\u001b[32m   Compiling\u001b[0m onig v6.4.0\n",
            "\u001b[1m\u001b[32m   Compiling\u001b[0m derive_builder v0.20.2\n",
            "\u001b[1m\u001b[32m   Compiling\u001b[0m fancy-regex v0.13.0\n",
            "\u001b[1m\u001b[32m   Compiling\u001b[0m dirs v5.0.1\n",
            "\u001b[1m\u001b[32m   Compiling\u001b[0m sharded-slab v0.1.7\n",
            "\u001b[1m\u001b[32m   Compiling\u001b[0m regex v1.10.6\n",
            "\u001b[1m\u001b[32m   Compiling\u001b[0m tracing-log v0.2.0\n",
            "\u001b[1m\u001b[32m   Compiling\u001b[0m serde_plain v1.0.2\n",
            "\u001b[1m\u001b[32m   Compiling\u001b[0m unicode-normalization-alignments v0.1.12\n",
            "\u001b[1m\u001b[32m   Compiling\u001b[0m itertools v0.13.0\n",
            "\u001b[1m\u001b[32m   Compiling\u001b[0m csv-core v0.1.12\n",
            "\u001b[1m\u001b[32m   Compiling\u001b[0m thread_local v1.1.8\n",
            "\u001b[1m\u001b[32m   Compiling\u001b[0m ab_glyph_rasterizer v0.1.8\n",
            "\u001b[1m\u001b[32m   Compiling\u001b[0m heck v0.5.0\n",
            "\u001b[1m\u001b[32m   Compiling\u001b[0m custom_derive v0.1.7\n",
            "\u001b[1m\u001b[32m   Compiling\u001b[0m clap_lex v0.7.4\n",
            "\u001b[1m\u001b[32m   Compiling\u001b[0m unicode_categories v0.1.1\n",
            "\u001b[1m\u001b[32m   Compiling\u001b[0m tokenizers v0.21.1\n",
            "\u001b[1m\u001b[32m   Compiling\u001b[0m clap_builder v4.5.37\n",
            "\u001b[1m\u001b[32m   Compiling\u001b[0m conv v0.3.3\n",
            "\u001b[1m\u001b[32m   Compiling\u001b[0m clap_derive v4.5.32\n",
            "\u001b[1m\u001b[32m   Compiling\u001b[0m ab_glyph v0.2.29\n",
            "\u001b[1m\u001b[32m   Compiling\u001b[0m tracing-subscriber v0.3.19\n",
            "\u001b[1m\u001b[32m   Compiling\u001b[0m csv v1.3.1\n",
            "\u001b[1m\u001b[32m   Compiling\u001b[0m candle-transformers v0.9.1 (/content/candle/candle-transformers)\n",
            "\u001b[1m\u001b[32m   Compiling\u001b[0m nalgebra v0.32.6\n",
            "\u001b[1m\u001b[32m   Compiling\u001b[0m hf-hub v0.4.2\n",
            "\u001b[1m\u001b[32m   Compiling\u001b[0m rand_distr v0.4.3\n",
            "\u001b[1m\u001b[32m   Compiling\u001b[0m itertools v0.12.1\n",
            "\u001b[1m\u001b[32m   Compiling\u001b[0m imageproc v0.24.0\n",
            "\u001b[1m\u001b[32m   Compiling\u001b[0m tracing-chrome v0.7.2\n",
            "\u001b[1m\u001b[32m   Compiling\u001b[0m clap v4.5.37\n",
            "\u001b[1m\u001b[32m    Finished\u001b[0m `dev` profile [unoptimized + debuginfo] target(s) in 6m 57s\n",
            "\u001b[1m\u001b[32m     Running\u001b[0m `/content/candle/target/debug/examples/mistral --use-f32 --release -- --prompt 'Write helloworld code in Rust' --use-f32`\n",
            "\u001b[1m\u001b[31merror:\u001b[0m unexpected argument '\u001b[33m--use-f32\u001b[0m' found\n",
            "\n",
            "\u001b[1m\u001b[4mUsage:\u001b[0m \u001b[1mmistral\u001b[0m [OPTIONS] \u001b[1m--prompt\u001b[0m <PROMPT>\n",
            "\n",
            "For more information, try '\u001b[1m--help\u001b[0m'.\n"
          ]
        }
      ]
    },
    {
      "cell_type": "code",
      "source": [
        "%cd /content/candle/candle-examples/examples/mistral\n",
        "!cargo run --example mistral --release  -- --prompt 'Write helloworld code in Rust' --use-f32"
      ],
      "metadata": {
        "colab": {
          "base_uri": "https://localhost:8080/"
        },
        "id": "nu1PWddixQXP",
        "outputId": "ccc911a5-1e79-409a-d6aa-22409d78fd92"
      },
      "execution_count": 10,
      "outputs": [
        {
          "output_type": "stream",
          "name": "stdout",
          "text": [
            "/content/candle/candle-examples/examples/mistral\n",
            "\u001b[1m\u001b[32m    Finished\u001b[0m `release` profile [optimized] target(s) in 0.62s\n",
            "\u001b[1m\u001b[32m     Running\u001b[0m `/content/candle/target/release/examples/mistral --prompt 'Write helloworld code in Rust' --use-f32`\n",
            "\u001b[1m\u001b[31merror:\u001b[0m unexpected argument '\u001b[33m--use-f32\u001b[0m' found\n",
            "\n",
            "\u001b[1m\u001b[4mUsage:\u001b[0m \u001b[1mmistral\u001b[0m \u001b[1m--prompt\u001b[0m <PROMPT>\n",
            "\n",
            "For more information, try '\u001b[1m--help\u001b[0m'.\n"
          ]
        }
      ]
    },
    {
      "cell_type": "code",
      "source": [],
      "metadata": {
        "id": "gt16c1MhzQcY"
      },
      "execution_count": null,
      "outputs": []
    },
    {
      "source": [
        "%cd /content/candle/candle-examples/examples/mistral\n",
        "!cargo run --example mistral --release -- --prompt 'Write helloworld code in Rust'"
      ],
      "cell_type": "code",
      "metadata": {
        "colab": {
          "base_uri": "https://localhost:8080/"
        },
        "id": "W6Ve3QNvzSKS",
        "outputId": "1ff0a8d0-c38f-453b-8e87-322e54edbf4e"
      },
      "execution_count": 13,
      "outputs": [
        {
          "output_type": "stream",
          "name": "stdout",
          "text": [
            "/content/candle/candle-examples/examples/mistral\n",
            "\u001b[1m\u001b[32m    Finished\u001b[0m `release` profile [optimized] target(s) in 0.36s\n",
            "\u001b[1m\u001b[32m     Running\u001b[0m `/content/candle/target/release/examples/mistral --prompt 'Write helloworld code in Rust'`\n",
            "avx: true, neon: false, simd128: false, f16c: true\n",
            "temp: 0.00 repeat-penalty: 1.10 repeat-last-n: 64\n",
            "Error: request error: https://huggingface.co/mistralai/Mistral-7B-v0.1/resolve/main/tokenizer.json: status code 401\n",
            "\n",
            "Caused by:\n",
            "    https://huggingface.co/mistralai/Mistral-7B-v0.1/resolve/main/tokenizer.json: status code 401\n"
          ]
        }
      ]
    },
    {
      "source": [
        "toml\n",
        "[[example]]\n",
        "name = \"mistral\"\n",
        "path = \"examples/mistral/main.rs\""
      ],
      "cell_type": "code",
      "metadata": {
        "id": "g7d-FgCPzdFg"
      },
      "execution_count": null,
      "outputs": []
    },
    {
      "source": [
        "toml\n",
        "[[example]]\n",
        "name = \"mistral\"\n",
        "path = \"examples/mistral/main.rs\"\n",
        "required-features = [\"f32\"]  # Add this line"
      ],
      "cell_type": "code",
      "metadata": {
        "id": "KhUVHlOozdVY"
      },
      "execution_count": null,
      "outputs": []
    },
    {
      "source": [
        "%cd /content/candle/candle-examples/examples/mistral\n",
        "!cargo run --example mistral --release -- --prompt 'Write helloworld code in Rust' --features=\"f32\""
      ],
      "cell_type": "code",
      "metadata": {
        "colab": {
          "base_uri": "https://localhost:8080/"
        },
        "id": "4Xah69Xrz1jI",
        "outputId": "caeadb40-cb2f-42f9-ae6f-8fff28697399"
      },
      "execution_count": 15,
      "outputs": [
        {
          "output_type": "stream",
          "name": "stdout",
          "text": [
            "/content/candle/candle-examples/examples/mistral\n",
            "\u001b[1m\u001b[33mwarning\u001b[0m\u001b[1m:\u001b[0m invalid feature `f32` in required-features of target `mistral`: `f32` is not present in [features] section\n",
            "\u001b[1m\u001b[31merror\u001b[0m\u001b[1m:\u001b[0m target `mistral` in package `candle-examples` requires the features: `f32`\n",
            "Consider enabling them by passing, e.g., `--features=\"f32\"`\n"
          ]
        }
      ]
    },
    {
      "source": [
        "%cd /content/candle/candle-examples/examples/mistral\n",
        "!cargo run --example mistral --release --features=\"f32\" -- --prompt 'Write helloworld code in Rust'"
      ],
      "cell_type": "code",
      "metadata": {
        "colab": {
          "base_uri": "https://localhost:8080/"
        },
        "id": "J6bnHuXC0B7I",
        "outputId": "3a869fa0-bb2c-4165-ac6d-a10ff1ee7987"
      },
      "execution_count": 16,
      "outputs": [
        {
          "output_type": "stream",
          "name": "stdout",
          "text": [
            "/content/candle/candle-examples/examples/mistral\n",
            "\u001b[1m\u001b[31merror\u001b[0m\u001b[1m:\u001b[0m the package 'candle-examples' does not contain this feature: f32\n",
            "help: there is a similarly named feature: mkl\n"
          ]
        }
      ]
    },
    {
      "cell_type": "code",
      "source": [
        "/content/candle/Cargo.toml"
      ],
      "metadata": {
        "id": "djx1ipKVzX4H"
      },
      "execution_count": null,
      "outputs": []
    },
    {
      "source": [
        "toml\n",
        " [features]\n",
        " default = [\"cuda\", \"cublas-lt\"]\n",
        " f32 = []"
      ],
      "cell_type": "code",
      "metadata": {
        "id": "escNEIGl0uj5"
      },
      "execution_count": null,
      "outputs": []
    },
    {
      "source": [
        "%cd /content/candle\n",
        "!cargo build --release --features f32"
      ],
      "cell_type": "code",
      "metadata": {
        "colab": {
          "base_uri": "https://localhost:8080/"
        },
        "id": "Sxv9L0YT0wGY",
        "outputId": "4f6e53c0-1f90-41ad-b5e7-e87935f3661f"
      },
      "execution_count": 17,
      "outputs": [
        {
          "output_type": "stream",
          "name": "stdout",
          "text": [
            "/content/candle\n",
            "\u001b[1m\u001b[31merror\u001b[0m\u001b[1m:\u001b[0m failed to parse manifest at `/content/candle/Cargo.toml`\n",
            "\n",
            "Caused by:\n",
            "  this virtual manifest specifies a `features` section, which is not allowed\n"
          ]
        }
      ]
    },
    {
      "source": [
        "%cd /content/candle/candle-examples/examples/mistral\n",
        "!cargo run --example mistral --release --features f32 -- --prompt 'Write helloworld code in Rust'"
      ],
      "cell_type": "code",
      "metadata": {
        "colab": {
          "base_uri": "https://localhost:8080/"
        },
        "id": "kgyY4Dj50wWA",
        "outputId": "b29c9bd0-92b7-4fe6-a07e-7dd7de9d40d3"
      },
      "execution_count": 18,
      "outputs": [
        {
          "output_type": "stream",
          "name": "stdout",
          "text": [
            "/content/candle/candle-examples/examples/mistral\n",
            "\u001b[1m\u001b[31merror\u001b[0m\u001b[1m:\u001b[0m failed to parse manifest at `/content/candle/candle-examples/Cargo.toml`\n",
            "\n",
            "Caused by:\n",
            "  error inheriting `edition` from workspace root manifest's `workspace.package.edition`\n",
            "\n",
            "Caused by:\n",
            "  failed to parse manifest at `/content/candle/Cargo.toml`\n",
            "\n",
            "Caused by:\n",
            "  this virtual manifest specifies a `features` section, which is not allowed\n"
          ]
        }
      ]
    },
    {
      "source": [
        "%cd /content/candle\n",
        "!cargo build"
      ],
      "cell_type": "code",
      "metadata": {
        "colab": {
          "base_uri": "https://localhost:8080/"
        },
        "id": "cNzWwpCn0-kY",
        "outputId": "b8a69f67-ad0a-438f-eeac-500e343214a7"
      },
      "execution_count": 22,
      "outputs": [
        {
          "output_type": "stream",
          "name": "stdout",
          "text": [
            "/content/candle\n",
            "\u001b[1m\u001b[31merror\u001b[0m\u001b[1m:\u001b[0m failed to parse manifest at `/content/candle/Cargo.toml`\n",
            "\n",
            "Caused by:\n",
            "  this virtual manifest specifies a `features` section, which is not allowed\n"
          ]
        }
      ]
    },
    {
      "cell_type": "code",
      "source": [],
      "metadata": {
        "id": "6Ji1Y_SY1QCA"
      },
      "execution_count": null,
      "outputs": []
    },
    {
      "cell_type": "code",
      "source": [],
      "metadata": {
        "id": "28fAhMvv11jZ"
      },
      "execution_count": null,
      "outputs": []
    },
    {
      "cell_type": "code",
      "source": [],
      "metadata": {
        "id": "z82a1pki11hg"
      },
      "execution_count": null,
      "outputs": []
    },
    {
      "cell_type": "code",
      "source": [],
      "metadata": {
        "id": "GCz_gQeM11eY"
      },
      "execution_count": null,
      "outputs": []
    },
    {
      "cell_type": "code",
      "source": [
        "import os\n",
        "os.environ['PATH'] += \":/root/.cargo/bin\"\n",
        "\n",
        "!cargo --version"
      ],
      "metadata": {
        "colab": {
          "base_uri": "https://localhost:8080/"
        },
        "id": "vbbpMeau11b4",
        "outputId": "b8272497-dd91-4cf0-c4a7-cf80dc7d4f68"
      },
      "execution_count": 2,
      "outputs": [
        {
          "output_type": "stream",
          "name": "stdout",
          "text": [
            "cargo 1.86.0 (adf9b6ad1 2025-02-28)\n"
          ]
        }
      ]
    },
    {
      "cell_type": "code",
      "source": [
        "!rm -rf /content/candle"
      ],
      "metadata": {
        "id": "MUFMll0L2zOa"
      },
      "execution_count": 11,
      "outputs": []
    },
    {
      "cell_type": "code",
      "source": [
        "%cd /content/candle/candle-examples/examples\n",
        "\n",
        "\n",
        "!cargo run --example falcon --release -- --prompt \"Flying monkeys are\""
      ],
      "metadata": {
        "colab": {
          "base_uri": "https://localhost:8080/"
        },
        "id": "FxCCgUk_11Yx",
        "outputId": "1f9cd530-fb13-4b44-cc02-37c75732c2b9"
      },
      "execution_count": 7,
      "outputs": [
        {
          "output_type": "stream",
          "name": "stdout",
          "text": [
            "/content/candle/candle-examples/examples\n",
            "\u001b[1m\u001b[31merror\u001b[0m\u001b[1m:\u001b[0m failed to parse manifest at `/content/candle/candle-examples/Cargo.toml`\n",
            "\n",
            "Caused by:\n",
            "  error inheriting `edition` from workspace root manifest's `workspace.package.edition`\n",
            "\n",
            "Caused by:\n",
            "  failed to parse manifest at `/content/candle/Cargo.toml`\n",
            "\n",
            "Caused by:\n",
            "  this virtual manifest specifies a `features` section, which is not allowed\n"
          ]
        }
      ]
    },
    {
      "cell_type": "code",
      "source": [
        "%cd /content/candle/candle-examples/examples\n",
        "!cargo run --example qwen --release  -- --prompt \"Hello there \""
      ],
      "metadata": {
        "colab": {
          "base_uri": "https://localhost:8080/"
        },
        "id": "OAVOnUXG2VqQ",
        "outputId": "04784eec-587d-4357-f2c8-942699cc2ac7"
      },
      "execution_count": 9,
      "outputs": [
        {
          "output_type": "stream",
          "name": "stdout",
          "text": [
            "/content/candle/candle-examples/examples\n",
            "\u001b[1m\u001b[31merror\u001b[0m\u001b[1m:\u001b[0m failed to parse manifest at `/content/candle/candle-examples/Cargo.toml`\n",
            "\n",
            "Caused by:\n",
            "  error inheriting `edition` from workspace root manifest's `workspace.package.edition`\n",
            "\n",
            "Caused by:\n",
            "  failed to parse manifest at `/content/candle/Cargo.toml`\n",
            "\n",
            "Caused by:\n",
            "  this virtual manifest specifies a `features` section, which is not allowed\n"
          ]
        }
      ]
    },
    {
      "cell_type": "code",
      "source": [
        "%cd /content/candle/candle-examples/examples\n",
        "!cargo run --example phi --release -- --model 2 \\\n",
        "  --prompt \"A skier slides down a frictionless slope of height 40m and length 80m. What's the skier speed at the bottom?\"\n",
        "\n"
      ],
      "metadata": {
        "colab": {
          "base_uri": "https://localhost:8080/"
        },
        "id": "HWWIHpBS3j36",
        "outputId": "46e54305-88ea-4ce8-a68e-a492d353b771"
      },
      "execution_count": 10,
      "outputs": [
        {
          "output_type": "stream",
          "name": "stdout",
          "text": [
            "/content/candle/candle-examples/examples\n",
            "\u001b[1m\u001b[31merror\u001b[0m\u001b[1m:\u001b[0m failed to parse manifest at `/content/candle/candle-examples/Cargo.toml`\n",
            "\n",
            "Caused by:\n",
            "  error inheriting `edition` from workspace root manifest's `workspace.package.edition`\n",
            "\n",
            "Caused by:\n",
            "  failed to parse manifest at `/content/candle/Cargo.toml`\n",
            "\n",
            "Caused by:\n",
            "  this virtual manifest specifies a `features` section, which is not allowed\n"
          ]
        }
      ]
    },
    {
      "cell_type": "code",
      "source": [],
      "metadata": {
        "id": "xNC4OjwI3zA5"
      },
      "execution_count": null,
      "outputs": []
    },
    {
      "cell_type": "code",
      "source": [],
      "metadata": {
        "id": "XU-lVbs04ELA"
      },
      "execution_count": null,
      "outputs": []
    },
    {
      "cell_type": "code",
      "source": [],
      "metadata": {
        "id": "2UnnhwEM4ERs"
      },
      "execution_count": null,
      "outputs": []
    },
    {
      "cell_type": "code",
      "source": [],
      "metadata": {
        "id": "c6AhDTF_4EVL"
      },
      "execution_count": null,
      "outputs": []
    },
    {
      "cell_type": "code",
      "source": [
        "%cd /content/candle/candle-examples/examples\n",
        "!cargo run --example qwen --release  -- --prompt \"Hello there \""
      ],
      "metadata": {
        "colab": {
          "base_uri": "https://localhost:8080/"
        },
        "id": "4yLePv-O4EXr",
        "outputId": "ecd83e46-06e9-4380-d116-653351e9052d"
      },
      "execution_count": 15,
      "outputs": [
        {
          "output_type": "stream",
          "name": "stdout",
          "text": [
            "/content/candle/candle-examples/examples\n",
            "\u001b[1m\u001b[32m    Updating\u001b[0m crates.io index\n",
            "\u001b[1m\u001b[32m     Locking\u001b[0m 645 packages to latest compatible versions\n",
            "\u001b[1m\u001b[36m      Adding\u001b[0m anstyle-wincon v3.0.6 \u001b[1m\u001b[33m(available: v3.0.7)\u001b[0m\n",
            "\u001b[1m\u001b[36m      Adding\u001b[0m fancy-regex v0.13.0 \u001b[1m\u001b[33m(available: v0.14.0)\u001b[0m\n",
            "\u001b[1m\u001b[36m      Adding\u001b[0m gemm v0.17.1 \u001b[1m\u001b[33m(available: v0.18.2)\u001b[0m\n",
            "\u001b[1m\u001b[36m      Adding\u001b[0m getrandom v0.2.16 \u001b[1m\u001b[33m(available: v0.3.2)\u001b[0m\n",
            "\u001b[1m\u001b[36m      Adding\u001b[0m imageproc v0.24.0 \u001b[1m\u001b[33m(available: v0.25.0)\u001b[0m\n",
            "\u001b[1m\u001b[36m      Adding\u001b[0m metal v0.27.0 \u001b[1m\u001b[33m(available: v0.32.0)\u001b[0m\n",
            "\u001b[1m\u001b[36m      Adding\u001b[0m once_cell v1.19.0 \u001b[1m\u001b[33m(available: v1.21.3)\u001b[0m\n",
            "\u001b[1m\u001b[36m      Adding\u001b[0m parquet v51.0.0 \u001b[1m\u001b[33m(available: v55.0.0)\u001b[0m\n",
            "\u001b[1m\u001b[36m      Adding\u001b[0m pyo3 v0.22.6 \u001b[1m\u001b[33m(available: v0.24.2)\u001b[0m\n",
            "\u001b[1m\u001b[36m      Adding\u001b[0m pyo3-build-config v0.22.6 \u001b[1m\u001b[33m(available: v0.24.2)\u001b[0m\n",
            "\u001b[1m\u001b[36m      Adding\u001b[0m regex v1.10.6 \u001b[1m\u001b[33m(available: v1.11.1)\u001b[0m\n",
            "\u001b[1m\u001b[36m      Adding\u001b[0m rubato v0.15.0 \u001b[1m\u001b[33m(available: v0.16.2)\u001b[0m\n",
            "\u001b[1m\u001b[36m      Adding\u001b[0m safetensors v0.4.5 \u001b[1m\u001b[33m(available: v0.5.3)\u001b[0m\n",
            "\u001b[1m\u001b[36m      Adding\u001b[0m thiserror v1.0.69 \u001b[1m\u001b[33m(available: v2.0.12)\u001b[0m\n",
            "\u001b[1m\u001b[36m      Adding\u001b[0m wasm-bindgen-futures v0.4.45 \u001b[1m\u001b[33m(available: v0.4.50)\u001b[0m\n",
            "\u001b[1m\u001b[36m      Adding\u001b[0m wasm-bindgen-test v0.3.45 \u001b[1m\u001b[33m(available: v0.3.50)\u001b[0m\n",
            "\u001b[1m\u001b[36m      Adding\u001b[0m wasm-bindgen-test-macro v0.3.45 \u001b[1m\u001b[33m(available: v0.3.50)\u001b[0m\n",
            "\u001b[1m\u001b[36m      Adding\u001b[0m wasm-streams v0.4.1 \u001b[1m\u001b[33m(available: v0.4.2)\u001b[0m\n",
            "\u001b[1m\u001b[36m      Adding\u001b[0m web-sys v0.3.70 \u001b[1m\u001b[33m(available: v0.3.77)\u001b[0m\n",
            "\u001b[1m\u001b[36m      Adding\u001b[0m yew v0.20.0 \u001b[1m\u001b[33m(available: v0.21.0)\u001b[0m\n",
            "\u001b[1m\u001b[36m      Adding\u001b[0m yew-agent v0.2.0 \u001b[1m\u001b[33m(available: v0.3.0)\u001b[0m\n",
            "\u001b[1m\u001b[36m      Adding\u001b[0m yoke v0.7.5 \u001b[1m\u001b[33m(available: v0.8.0)\u001b[0m\n",
            "\u001b[1m\u001b[36m      Adding\u001b[0m zip v1.1.4 \u001b[1m\u001b[33m(available: v2.6.1)\u001b[0m\n",
            "\u001b[1m\u001b[32m   Compiling\u001b[0m proc-macro2 v1.0.95\n",
            "\u001b[1m\u001b[32m   Compiling\u001b[0m unicode-ident v1.0.18\n",
            "\u001b[1m\u001b[32m   Compiling\u001b[0m libc v0.2.172\n",
            "\u001b[1m\u001b[32m   Compiling\u001b[0m quote v1.0.40\n",
            "\u001b[1m\u001b[32m   Compiling\u001b[0m cfg-if v1.0.0\n",
            "\u001b[1m\u001b[32m   Compiling\u001b[0m syn v2.0.101\n",
            "\u001b[1m\u001b[32m   Compiling\u001b[0m autocfg v1.4.0\n",
            "\u001b[1m\u001b[32m   Compiling\u001b[0m once_cell v1.19.0\n",
            "\u001b[1m\u001b[32m   Compiling\u001b[0m libm v0.2.14\n",
            "\u001b[1m\u001b[32m   Compiling\u001b[0m num-traits v0.2.19\n",
            "\u001b[1m\u001b[32m   Compiling\u001b[0m zerocopy v0.8.25\n",
            "\u001b[1m\u001b[32m   Compiling\u001b[0m bytemuck_derive v1.9.3\n",
            "\u001b[1m\u001b[32m   Compiling\u001b[0m memchr v2.7.4\n",
            "\u001b[1m\u001b[32m   Compiling\u001b[0m bytemuck v1.23.0\n",
            "\u001b[1m\u001b[32m   Compiling\u001b[0m ppv-lite86 v0.2.21\n",
            "\u001b[1m\u001b[32m   Compiling\u001b[0m crossbeam-utils v0.8.21\n",
            "\u001b[1m\u001b[32m   Compiling\u001b[0m getrandom v0.3.2\n",
            "\u001b[1m\u001b[32m   Compiling\u001b[0m paste v1.0.15\n",
            "\u001b[1m\u001b[32m   Compiling\u001b[0m either v1.15.0\n",
            "\u001b[1m\u001b[32m   Compiling\u001b[0m num-complex v0.4.6\n",
            "\u001b[1m\u001b[32m   Compiling\u001b[0m shlex v1.3.0\n",
            "\u001b[1m\u001b[32m   Compiling\u001b[0m crossbeam-epoch v0.9.18\n",
            "\u001b[1m\u001b[32m   Compiling\u001b[0m cc v1.2.21\n",
            "\u001b[1m\u001b[32m   Compiling\u001b[0m rayon-core v1.12.1\n",
            "\u001b[1m\u001b[32m   Compiling\u001b[0m rand_core v0.9.3\n",
            "\u001b[1m\u001b[32m   Compiling\u001b[0m crossbeam-deque v0.8.6\n",
            "\u001b[1m\u001b[32m   Compiling\u001b[0m synstructure v0.13.2\n",
            "\u001b[1m\u001b[32m   Compiling\u001b[0m rand_chacha v0.9.0\n",
            "\u001b[1m\u001b[32m   Compiling\u001b[0m reborrow v0.5.5\n",
            "\u001b[1m\u001b[32m   Compiling\u001b[0m rand v0.9.1\n",
            "\u001b[1m\u001b[32m   Compiling\u001b[0m rayon v1.10.0\n",
            "\u001b[1m\u001b[32m   Compiling\u001b[0m zerofrom-derive v0.1.6\n",
            "\u001b[1m\u001b[32m   Compiling\u001b[0m stable_deref_trait v1.2.0\n",
            "\u001b[1m\u001b[32m   Compiling\u001b[0m itoa v1.0.15\n",
            "\u001b[1m\u001b[32m   Compiling\u001b[0m zerofrom v0.1.6\n",
            "\u001b[1m\u001b[32m   Compiling\u001b[0m rand_distr v0.5.1\n",
            "\u001b[1m\u001b[32m   Compiling\u001b[0m yoke-derive v0.7.5\n",
            "\u001b[1m\u001b[32m   Compiling\u001b[0m pin-project-lite v0.2.16\n",
            "\u001b[1m\u001b[32m   Compiling\u001b[0m bitflags v2.9.0\n",
            "\u001b[1m\u001b[32m   Compiling\u001b[0m half v2.6.0\n",
            "\u001b[1m\u001b[32m   Compiling\u001b[0m serde v1.0.219\n",
            "\u001b[1m\u001b[32m   Compiling\u001b[0m yoke v0.7.5\n",
            "\u001b[1m\u001b[32m   Compiling\u001b[0m seq-macro v0.3.6\n",
            "\u001b[1m\u001b[32m   Compiling\u001b[0m serde_derive v1.0.219\n",
            "\u001b[1m\u001b[32m   Compiling\u001b[0m displaydoc v0.2.5\n",
            "\u001b[1m\u001b[32m   Compiling\u001b[0m pkg-config v0.3.32\n",
            "\u001b[1m\u001b[32m   Compiling\u001b[0m bitflags v1.3.2\n",
            "\u001b[1m\u001b[32m   Compiling\u001b[0m zerovec-derive v0.10.3\n",
            "\u001b[1m\u001b[32m   Compiling\u001b[0m tracing-core v0.1.33\n",
            "\u001b[1m\u001b[32m   Compiling\u001b[0m version_check v0.9.5\n",
            "\u001b[1m\u001b[32m   Compiling\u001b[0m futures-core v0.3.31\n",
            "\u001b[1m\u001b[32m   Compiling\u001b[0m smallvec v1.15.0\n",
            "\u001b[1m\u001b[32m   Compiling\u001b[0m pulp v0.21.5\n",
            "\u001b[1m\u001b[32m   Compiling\u001b[0m zerovec v0.10.4\n",
            "\u001b[1m\u001b[32m   Compiling\u001b[0m bytes v1.10.1\n",
            "\u001b[1m\u001b[32m   Compiling\u001b[0m ryu v1.0.20\n",
            "\u001b[1m\u001b[32m   Compiling\u001b[0m slab v0.4.9\n",
            "\u001b[1m\u001b[32m   Compiling\u001b[0m futures-sink v0.3.31\n",
            "\u001b[1m\u001b[32m   Compiling\u001b[0m serde_json v1.0.140\n",
            "\u001b[1m\u001b[32m   Compiling\u001b[0m vcpkg v0.2.15\n",
            "\u001b[1m\u001b[32m   Compiling\u001b[0m openssl-sys v0.9.108\n",
            "\u001b[1m\u001b[32m   Compiling\u001b[0m tinystr v0.7.6\n",
            "\u001b[1m\u001b[32m   Compiling\u001b[0m raw-cpuid v11.5.0\n",
            "\u001b[1m\u001b[32m   Compiling\u001b[0m dyn-stack v0.13.0\n",
            "\u001b[1m\u001b[32m   Compiling\u001b[0m tracing-attributes v0.1.28\n",
            "\u001b[1m\u001b[32m   Compiling\u001b[0m getrandom v0.2.16\n",
            "\u001b[1m\u001b[32m   Compiling\u001b[0m litemap v0.7.5\n",
            "\u001b[1m\u001b[32m   Compiling\u001b[0m hashbrown v0.15.3\n",
            "\u001b[1m\u001b[32m   Compiling\u001b[0m equivalent v1.0.2\n",
            "\u001b[1m\u001b[32m   Compiling\u001b[0m icu_locid_transform_data v1.5.1\n",
            "\u001b[1m\u001b[32m   Compiling\u001b[0m log v0.4.27\n",
            "\u001b[1m\u001b[32m   Compiling\u001b[0m writeable v0.5.5\n",
            "\u001b[1m\u001b[32m   Compiling\u001b[0m indexmap v2.9.0\n",
            "\u001b[1m\u001b[32m   Compiling\u001b[0m icu_locid v1.5.0\n",
            "\u001b[1m\u001b[32m   Compiling\u001b[0m tracing v0.1.41\n",
            "\u001b[1m\u001b[32m   Compiling\u001b[0m gemm-common v0.18.2\n",
            "\u001b[1m\u001b[32m   Compiling\u001b[0m raw-cpuid v10.7.0\n",
            "\u001b[1m\u001b[32m   Compiling\u001b[0m dyn-stack v0.10.0\n",
            "\u001b[1m\u001b[32m   Compiling\u001b[0m pulp v0.18.22\n",
            "\u001b[1m\u001b[32m   Compiling\u001b[0m tokio-macros v2.5.0\n",
            "\u001b[1m\u001b[32m   Compiling\u001b[0m icu_provider_macros v1.5.0\n",
            "\u001b[1m\u001b[32m   Compiling\u001b[0m num-integer v0.1.46\n",
            "\u001b[1m\u001b[32m   Compiling\u001b[0m crc32fast v1.4.2\n",
            "\u001b[1m\u001b[32m   Compiling\u001b[0m socket2 v0.5.9\n",
            "\u001b[1m\u001b[32m   Compiling\u001b[0m mio v1.0.3\n",
            "\u001b[1m\u001b[32m   Compiling\u001b[0m object v0.36.7\n",
            "\u001b[1m\u001b[32m   Compiling\u001b[0m icu_properties_data v1.5.1\n",
            "\u001b[1m\u001b[32m   Compiling\u001b[0m simd-adler32 v0.3.7\n",
            "\u001b[1m\u001b[32m   Compiling\u001b[0m tokio v1.45.0\n",
            "\u001b[1m\u001b[32m   Compiling\u001b[0m icu_provider v1.5.0\n",
            "\u001b[1m\u001b[32m   Compiling\u001b[0m gemm-common v0.17.1\n",
            "\u001b[1m\u001b[32m   Compiling\u001b[0m futures-channel v0.3.31\n",
            "\u001b[1m\u001b[32m   Compiling\u001b[0m futures-macro v0.3.31\n",
            "\u001b[1m\u001b[32m   Compiling\u001b[0m icu_normalizer_data v1.5.1\n",
            "\u001b[1m\u001b[32m   Compiling\u001b[0m fnv v1.0.7\n",
            "\u001b[1m\u001b[32m   Compiling\u001b[0m futures-task v0.3.31\n",
            "\u001b[1m\u001b[32m   Compiling\u001b[0m adler2 v2.0.0\n",
            "\u001b[1m\u001b[32m   Compiling\u001b[0m pin-utils v0.1.0\n",
            "\u001b[1m\u001b[32m   Compiling\u001b[0m futures-io v0.3.31\n",
            "\u001b[1m\u001b[32m   Compiling\u001b[0m futures-util v0.3.31\n",
            "\u001b[1m\u001b[32m   Compiling\u001b[0m miniz_oxide v0.8.8\n",
            "\u001b[1m\u001b[32m   Compiling\u001b[0m http v1.3.1\n",
            "\u001b[1m\u001b[32m   Compiling\u001b[0m icu_locid_transform v1.5.0\n",
            "\u001b[1m\u001b[32m   Compiling\u001b[0m num-bigint v0.4.6\n",
            "\u001b[1m\u001b[32m   Compiling\u001b[0m icu_collections v1.5.0\n",
            "\u001b[1m\u001b[32m   Compiling\u001b[0m winnow v0.7.10\n",
            "\u001b[1m\u001b[32m   Compiling\u001b[0m openssl v0.10.72\n",
            "\u001b[1m\u001b[32m   Compiling\u001b[0m toml_datetime v0.6.9\n",
            "\u001b[1m\u001b[32m   Compiling\u001b[0m rustls-pki-types v1.11.0\n",
            "\u001b[1m\u001b[32m   Compiling\u001b[0m foreign-types-shared v0.1.1\n",
            "\u001b[1m\u001b[32m   Compiling\u001b[0m foreign-types v0.3.2\n",
            "\u001b[1m\u001b[32m   Compiling\u001b[0m toml_edit v0.22.26\n",
            "\u001b[1m\u001b[32m   Compiling\u001b[0m icu_properties v1.5.1\n",
            "\u001b[1m\u001b[32m   Compiling\u001b[0m num-rational v0.4.2\n",
            "\u001b[1m\u001b[32m   Compiling\u001b[0m ring v0.17.14\n",
            "\u001b[1m\u001b[32m   Compiling\u001b[0m openssl-macros v0.1.1\n",
            "\u001b[1m\u001b[32m   Compiling\u001b[0m native-tls v0.2.14\n",
            "\u001b[1m\u001b[32m   Compiling\u001b[0m ident_case v1.0.1\n",
            "\u001b[1m\u001b[32m   Compiling\u001b[0m thiserror v1.0.69\n",
            "\u001b[1m\u001b[32m   Compiling\u001b[0m httparse v1.10.1\n",
            "\u001b[1m\u001b[32m   Compiling\u001b[0m utf8_iter v1.0.4\n",
            "\u001b[1m\u001b[32m   Compiling\u001b[0m utf16_iter v1.0.5\n",
            "\u001b[1m\u001b[32m   Compiling\u001b[0m strsim v0.11.1\n",
            "\u001b[1m\u001b[32m   Compiling\u001b[0m write16 v1.0.0\n",
            "\u001b[1m\u001b[32m   Compiling\u001b[0m icu_normalizer v1.5.0\n",
            "\u001b[1m\u001b[32m   Compiling\u001b[0m darling_core v0.20.11\n",
            "\u001b[1m\u001b[32m   Compiling\u001b[0m proc-macro-crate v3.3.0\n",
            "\u001b[1m\u001b[32m   Compiling\u001b[0m http-body v1.0.1\n",
            "\u001b[1m\u001b[32m   Compiling\u001b[0m tokio-util v0.7.15\n",
            "\u001b[1m\u001b[32m   Compiling\u001b[0m num-iter v0.1.45\n",
            "\u001b[1m\u001b[32m   Compiling\u001b[0m gemm-f32 v0.18.2\n",
            "\u001b[1m\u001b[32m   Compiling\u001b[0m rand_core v0.6.4\n",
            "\u001b[1m\u001b[32m   Compiling\u001b[0m thiserror-impl v1.0.69\n",
            "\u001b[1m\u001b[32m   Compiling\u001b[0m try-lock v0.2.5\n",
            "\u001b[1m\u001b[32m   Compiling\u001b[0m openssl-probe v0.1.6\n",
            "\u001b[1m\u001b[32m   Compiling\u001b[0m percent-encoding v2.3.1\n",
            "\u001b[1m\u001b[32m   Compiling\u001b[0m anyhow v1.0.98\n",
            "\u001b[1m\u001b[32m   Compiling\u001b[0m byteorder v1.5.0\n",
            "\u001b[1m\u001b[32m   Compiling\u001b[0m atomic-waker v1.1.2\n",
            "\u001b[1m\u001b[32m   Compiling\u001b[0m h2 v0.4.10\n",
            "\u001b[1m\u001b[32m   Compiling\u001b[0m form_urlencoded v1.2.1\n",
            "\u001b[1m\u001b[32m   Compiling\u001b[0m want v0.3.1\n",
            "\u001b[1m\u001b[32m   Compiling\u001b[0m gemm-f16 v0.18.2\n",
            "\u001b[1m\u001b[32m   Compiling\u001b[0m rand_chacha v0.3.1\n",
            "\u001b[1m\u001b[32m   Compiling\u001b[0m num v0.4.3\n",
            "\u001b[1m\u001b[32m   Compiling\u001b[0m num_enum_derive v0.7.3\n",
            "\u001b[1m\u001b[32m   Compiling\u001b[0m darling_macro v0.20.11\n",
            "\u001b[1m\u001b[32m   Compiling\u001b[0m idna_adapter v1.2.0\n",
            "\u001b[1m\u001b[32m   Compiling\u001b[0m flate2 v1.1.1\n",
            "\u001b[1m\u001b[32m   Compiling\u001b[0m gemm-f32 v0.17.1\n",
            "\u001b[1m\u001b[32m   Compiling\u001b[0m gemm-f64 v0.18.2\n",
            "\u001b[1m\u001b[32m   Compiling\u001b[0m gemm-c32 v0.18.2\n",
            "\u001b[1m\u001b[32m   Compiling\u001b[0m gemm-c64 v0.18.2\n",
            "\u001b[1m\u001b[32m   Compiling\u001b[0m aho-corasick v1.1.3\n",
            "\u001b[1m\u001b[32m   Compiling\u001b[0m num_cpus v1.16.0\n",
            "\u001b[1m\u001b[32m   Compiling\u001b[0m regex-syntax v0.8.5\n",
            "\u001b[1m\u001b[32m   Compiling\u001b[0m untrusted v0.9.0\n",
            "\u001b[1m\u001b[32m   Compiling\u001b[0m zip v1.1.4\n",
            "\u001b[1m\u001b[32m   Compiling\u001b[0m tower-service v0.3.3\n",
            "\u001b[1m\u001b[32m   Compiling\u001b[0m gimli v0.31.1\n",
            "\u001b[1m\u001b[32m   Compiling\u001b[0m addr2line v0.24.2\n",
            "\u001b[1m\u001b[32m   Compiling\u001b[0m regex-automata v0.4.9\n",
            "\u001b[1m\u001b[32m   Compiling\u001b[0m gemm v0.18.2\n",
            "\u001b[1m\u001b[32m   Compiling\u001b[0m gemm-f16 v0.17.1\n",
            "\u001b[1m\u001b[32m   Compiling\u001b[0m idna v1.0.3\n",
            "\u001b[1m\u001b[32m   Compiling\u001b[0m hyper v1.6.0\n",
            "\u001b[1m\u001b[32m   Compiling\u001b[0m darling v0.20.11\n",
            "\u001b[1m\u001b[32m   Compiling\u001b[0m num_enum v0.7.3\n",
            "\u001b[1m\u001b[32m   Compiling\u001b[0m rand v0.8.5\n",
            "\u001b[1m\u001b[32m   Compiling\u001b[0m gemm-f64 v0.17.1\n",
            "\u001b[1m\u001b[32m   Compiling\u001b[0m gemm-c32 v0.17.1\n",
            "\u001b[1m\u001b[32m   Compiling\u001b[0m gemm-c64 v0.17.1\n",
            "\u001b[1m\u001b[32m   Compiling\u001b[0m safetensors v0.4.5\n",
            "\u001b[1m\u001b[32m   Compiling\u001b[0m onig_sys v69.8.1\n",
            "\u001b[1m\u001b[32m   Compiling\u001b[0m memmap2 v0.9.5\n",
            "\u001b[1m\u001b[32m   Compiling\u001b[0m libloading v0.8.6\n",
            "\u001b[1m\u001b[32m   Compiling\u001b[0m rustc-demangle v0.1.24\n",
            "\u001b[1m\u001b[32m   Compiling\u001b[0m rustls v0.23.27\n",
            "\u001b[1m\u001b[32m   Compiling\u001b[0m lazy_static v1.5.0\n",
            "\u001b[1m\u001b[32m   Compiling\u001b[0m portable-atomic v1.11.0\n",
            "\u001b[1m\u001b[32m   Compiling\u001b[0m thiserror v2.0.12\n",
            "\u001b[1m\u001b[32m   Compiling\u001b[0m backtrace v0.3.75\n",
            "\u001b[1m\u001b[32m   Compiling\u001b[0m ug v0.4.0\n",
            "\u001b[1m\u001b[32m   Compiling\u001b[0m gemm v0.17.1\n",
            "\u001b[1m\u001b[32m   Compiling\u001b[0m derive_builder_core v0.20.2\n",
            "\u001b[1m\u001b[32m   Compiling\u001b[0m hyper-util v0.1.11\n",
            "\u001b[1m\u001b[32m   Compiling\u001b[0m url v2.5.4\n",
            "\u001b[1m\u001b[32m   Compiling\u001b[0m rustls-webpki v0.103.2\n",
            "\u001b[1m\u001b[32m   Compiling\u001b[0m tokio-native-tls v0.3.1\n",
            "\u001b[1m\u001b[32m   Compiling\u001b[0m http-body-util v0.1.3\n",
            "\u001b[1m\u001b[32m   Compiling\u001b[0m webpki-roots v1.0.0\n",
            "\u001b[1m\u001b[32m   Compiling\u001b[0m fdeflate v0.3.7\n",
            "\u001b[1m\u001b[32m   Compiling\u001b[0m sync_wrapper v1.0.2\n",
            "\u001b[1m\u001b[32m   Compiling\u001b[0m safe_arch v0.7.4\n",
            "\u001b[1m\u001b[32m   Compiling\u001b[0m thiserror-impl v2.0.12\n",
            "\u001b[1m\u001b[32m   Compiling\u001b[0m matrixmultiply v0.3.9\n",
            "\u001b[1m\u001b[32m   Compiling\u001b[0m esaxx-rs v0.1.10\n",
            "\u001b[1m\u001b[32m   Compiling\u001b[0m unicode-width v0.2.0\n",
            "\u001b[1m\u001b[32m   Compiling\u001b[0m base64 v0.22.1\n",
            "\u001b[1m\u001b[32m   Compiling\u001b[0m bit-vec v0.6.3\n",
            "\u001b[1m\u001b[32m   Compiling\u001b[0m tower-layer v0.3.3\n",
            "\u001b[1m\u001b[32m   Compiling\u001b[0m subtle v2.6.1\n",
            "\u001b[1m\u001b[32m   Compiling\u001b[0m zune-core v0.4.12\n",
            "\u001b[1m\u001b[32m   Compiling\u001b[0m typenum v1.18.0\n",
            "\u001b[1m\u001b[32m   Compiling\u001b[0m zeroize v1.8.1\n",
            "\u001b[1m\u001b[32m   Compiling\u001b[0m minimal-lexical v0.2.1\n",
            "\u001b[1m\u001b[32m   Compiling\u001b[0m option-ext v0.2.0\n",
            "\u001b[1m\u001b[32m   Compiling\u001b[0m utf8parse v0.2.2\n",
            "\u001b[1m\u001b[32m   Compiling\u001b[0m anstyle-parse v0.2.6\n",
            "\u001b[1m\u001b[32m   Compiling\u001b[0m nom v7.1.3\n",
            "\u001b[1m\u001b[32m   Compiling\u001b[0m dirs-sys v0.4.1\n",
            "\u001b[1m\u001b[32m   Compiling\u001b[0m zune-jpeg v0.4.14\n",
            "\u001b[1m\u001b[32m   Compiling\u001b[0m tower v0.5.2\n",
            "\u001b[1m\u001b[32m   Compiling\u001b[0m bit-set v0.5.3\n",
            "\u001b[1m\u001b[32m   Compiling\u001b[0m console v0.15.11\n",
            "\u001b[1m\u001b[32m   Compiling\u001b[0m wide v0.7.32\n",
            "\u001b[1m\u001b[32m   Compiling\u001b[0m png v0.17.16\n",
            "\u001b[1m\u001b[32m   Compiling\u001b[0m webpki-roots v0.26.11\n",
            "\u001b[1m\u001b[32m   Compiling\u001b[0m hyper-tls v0.6.0\n",
            "\u001b[1m\u001b[32m   Compiling\u001b[0m derive_builder_macro v0.20.2\n",
            "\u001b[1m\u001b[32m   Compiling\u001b[0m candle-core v0.9.1 (/content/candle/candle-core)\n",
            "\u001b[1m\u001b[32m   Compiling\u001b[0m serde_urlencoded v0.7.1\n",
            "\u001b[1m\u001b[32m   Compiling\u001b[0m socks v0.3.4\n",
            "\u001b[1m\u001b[32m   Compiling\u001b[0m rustls-pemfile v2.2.0\n",
            "\u001b[1m\u001b[32m   Compiling\u001b[0m futures-executor v0.3.31\n",
            "\u001b[1m\u001b[32m   Compiling\u001b[0m itertools v0.11.0\n",
            "\u001b[1m\u001b[32m   Compiling\u001b[0m monostate-impl v0.1.14\n",
            "\u001b[1m\u001b[32m   Compiling\u001b[0m approx v0.5.1\n",
            "\u001b[1m\u001b[32m   Compiling\u001b[0m encoding_rs v0.8.35\n",
            "\u001b[1m\u001b[32m   Compiling\u001b[0m ttf-parser v0.25.1\n",
            "\u001b[1m\u001b[32m   Compiling\u001b[0m base64 v0.13.1\n",
            "\u001b[1m\u001b[32m   Compiling\u001b[0m mime v0.3.17\n",
            "\u001b[1m\u001b[32m   Compiling\u001b[0m is_terminal_polyfill v1.70.1\n",
            "\u001b[1m\u001b[32m   Compiling\u001b[0m overload v0.1.1\n",
            "\u001b[1m\u001b[32m   Compiling\u001b[0m number_prefix v0.4.0\n",
            "\u001b[1m\u001b[32m   Compiling\u001b[0m colorchoice v1.0.3\n",
            "\u001b[1m\u001b[32m   Compiling\u001b[0m rawpointer v0.2.1\n",
            "\u001b[1m\u001b[32m   Compiling\u001b[0m anstyle v1.0.10\n",
            "\u001b[1m\u001b[32m   Compiling\u001b[0m anstyle-query v1.1.2\n",
            "\u001b[1m\u001b[32m   Compiling\u001b[0m ipnet v2.11.0\n",
            "\u001b[1m\u001b[32m   Compiling\u001b[0m byteorder-lite v0.1.0\n",
            "\u001b[1m\u001b[32m   Compiling\u001b[0m unicode-segmentation v1.12.0\n",
            "\u001b[1m\u001b[32m   Compiling\u001b[0m macro_rules_attribute-proc_macro v0.2.0\n",
            "\u001b[1m\u001b[32m   Compiling\u001b[0m macro_rules_attribute v0.2.0\n",
            "\u001b[1m\u001b[32m   Compiling\u001b[0m spm_precompiled v0.1.4\n",
            "\u001b[1m\u001b[32m   Compiling\u001b[0m image v0.25.6\n",
            "\u001b[1m\u001b[32m   Compiling\u001b[0m reqwest v0.12.15\n",
            "\u001b[1m\u001b[32m   Compiling\u001b[0m anstream v0.6.18\n",
            "\u001b[1m\u001b[32m   Compiling\u001b[0m indicatif v0.17.11\n",
            "\u001b[1m\u001b[32m   Compiling\u001b[0m nu-ansi-term v0.46.0\n",
            "\u001b[1m\u001b[32m   Compiling\u001b[0m owned_ttf_parser v0.25.0\n",
            "\u001b[1m\u001b[32m   Compiling\u001b[0m simba v0.8.1\n",
            "\u001b[1m\u001b[32m   Compiling\u001b[0m monostate v0.1.14\n",
            "\u001b[1m\u001b[32m   Compiling\u001b[0m rayon-cond v0.3.0\n",
            "\u001b[1m\u001b[32m   Compiling\u001b[0m futures v0.3.31\n",
            "\u001b[1m\u001b[32m   Compiling\u001b[0m ureq v2.12.1\n",
            "\u001b[1m\u001b[32m   Compiling\u001b[0m candle-nn v0.9.1 (/content/candle/candle-nn)\n",
            "\u001b[1m\u001b[32m   Compiling\u001b[0m derive_builder v0.20.2\n",
            "\u001b[1m\u001b[32m   Compiling\u001b[0m onig v6.4.0\n",
            "\u001b[1m\u001b[32m   Compiling\u001b[0m candle-examples v0.9.1 (/content/candle/candle-examples)\n",
            "\u001b[1m\u001b[32m   Compiling\u001b[0m fancy-regex v0.13.0\n",
            "\u001b[1m\u001b[32m   Compiling\u001b[0m dirs v5.0.1\n",
            "\u001b[1m\u001b[32m   Compiling\u001b[0m sharded-slab v0.1.7\n",
            "\u001b[1m\u001b[32m   Compiling\u001b[0m regex v1.10.6\n",
            "\u001b[1m\u001b[32m   Compiling\u001b[0m tracing-log v0.2.0\n",
            "\u001b[1m\u001b[32m   Compiling\u001b[0m serde_plain v1.0.2\n",
            "\u001b[1m\u001b[32m   Compiling\u001b[0m unicode-normalization-alignments v0.1.12\n",
            "\u001b[1m\u001b[32m   Compiling\u001b[0m itertools v0.13.0\n",
            "\u001b[1m\u001b[32m   Compiling\u001b[0m csv-core v0.1.12\n",
            "\u001b[1m\u001b[32m   Compiling\u001b[0m thread_local v1.1.8\n",
            "\u001b[1m\u001b[32m   Compiling\u001b[0m custom_derive v0.1.7\n",
            "\u001b[1m\u001b[32m   Compiling\u001b[0m unicode_categories v0.1.1\n",
            "\u001b[1m\u001b[32m   Compiling\u001b[0m ab_glyph_rasterizer v0.1.8\n",
            "\u001b[1m\u001b[32m   Compiling\u001b[0m heck v0.5.0\n",
            "\u001b[1m\u001b[32m   Compiling\u001b[0m clap_lex v0.7.4\n",
            "\u001b[1m\u001b[32m   Compiling\u001b[0m clap_builder v4.5.37\n",
            "\u001b[1m\u001b[32m   Compiling\u001b[0m clap_derive v4.5.32\n",
            "\u001b[1m\u001b[32m   Compiling\u001b[0m tokenizers v0.21.1\n",
            "\u001b[1m\u001b[32m   Compiling\u001b[0m ab_glyph v0.2.29\n",
            "\u001b[1m\u001b[32m   Compiling\u001b[0m conv v0.3.3\n",
            "\u001b[1m\u001b[32m   Compiling\u001b[0m tracing-subscriber v0.3.19\n",
            "\u001b[1m\u001b[32m   Compiling\u001b[0m csv v1.3.1\n",
            "\u001b[1m\u001b[32m   Compiling\u001b[0m candle-transformers v0.9.1 (/content/candle/candle-transformers)\n",
            "\u001b[1m\u001b[32m   Compiling\u001b[0m hf-hub v0.4.2\n",
            "\u001b[1m\u001b[32m   Compiling\u001b[0m nalgebra v0.32.6\n",
            "\u001b[1m\u001b[32m   Compiling\u001b[0m rand_distr v0.4.3\n",
            "\u001b[1m\u001b[32m   Compiling\u001b[0m itertools v0.12.1\n",
            "\u001b[1m\u001b[32m   Compiling\u001b[0m imageproc v0.24.0\n",
            "\u001b[1m\u001b[32m   Compiling\u001b[0m tracing-chrome v0.7.2\n",
            "\u001b[1m\u001b[32m   Compiling\u001b[0m clap v4.5.37\n",
            "\u001b[1m\u001b[32m    Finished\u001b[0m `release` profile [optimized] target(s) in 14m 13s\n",
            "\u001b[1m\u001b[32m     Running\u001b[0m `/content/candle/target/release/examples/qwen --prompt 'Hello there '`\n",
            "avx: true, neon: false, simd128: false, f16c: true\n",
            "temp: 0.00 repeat-penalty: 1.10 repeat-last-n: 64\n",
            "\u001b[2Kmodel.safetensors [00:00:11] [██████████████] 1.15 GiB/1.15 GiB 84.34 MiB/s (0s)retrieved the files in 12.262869812s\n",
            "\u001b[2Kconfig.json [00:00:00] [████████████████████████████████████] 661 B/661 B - (0s)Running on CPU, to run on GPU, build this example with `--features cuda`\n",
            "loaded the model in 9.206948201s\n",
            "Hello there 2nd time here. I have a problem with my code, it is not working properly.\n",
            "I am trying to create a function that will take an array of numbers and return the sum of all the numbers in the array.\n",
            "\n",
            "```\n",
            "function sumArray(arr) {\n",
            "    var sum = 0;\n",
            "    for (var i=0; i<arr.length; i++) {\n",
            "        sum += arr[i];\n",
            "    }\n",
            "    return sum;\n",
            "}\n",
            "\n",
            "```\n",
            "\n",
            "I am getting an error saying that `sum` is not defined. I have tried to add a reference to it in the function but it does not work.\n",
            "\n",
            "Can someone help me with this? Thanks\n",
            "You need to define your function before you call it:\n",
            "\n",
            "```\n",
            "function sumArray(arr) {\n",
            "    var sum = 0;\n",
            "    for (var i=0; i<arr.length; i++) {\n",
            "        sum += arr[i];\n",
            "    }\n",
            "    return sum;\n",
            "}\n",
            "\n",
            "```\n",
            "189 tokens generated (4.74 token/s)\n"
          ]
        }
      ]
    },
    {
      "cell_type": "code",
      "source": [
        "/content/"
      ],
      "metadata": {
        "id": "hM7T-npV4GDC"
      },
      "execution_count": null,
      "outputs": []
    },
    {
      "cell_type": "code",
      "source": [
        "%cd /content/candle/candle-examples/examples\n",
        "!cargo run --example onnx --features=onnx --release -- --image /content/candle/candle-examples/examples/yolo-v8/assets/bike.jpg"
      ],
      "metadata": {
        "colab": {
          "base_uri": "https://localhost:8080/"
        },
        "id": "vYOJLDmG9Nf8",
        "outputId": "ac1fda1a-3090-47d1-ea9c-8862cc4a6b4a"
      },
      "execution_count": 18,
      "outputs": [
        {
          "output_type": "stream",
          "name": "stdout",
          "text": [
            "/content/candle/candle-examples/examples\n",
            "\u001b[1m\u001b[32m    Finished\u001b[0m `release` profile [optimized] target(s) in 0.37s\n",
            "\u001b[1m\u001b[32m     Running\u001b[0m `/content/candle/target/release/examples/onnx --image /content/candle/candle-examples/examples/yolo-v8/assets/bike.jpg`\n",
            "loaded image Tensor[dims 3, 224, 224; f32]\n",
            "\u001b[2Ksqueezenet1.1-7.onnx [00:00:00] [███████████] 4.73 MiB/4.73 MiB 23.01 MiB/s (0s)unicycle, monocycle                               : 83.27%\n",
            "ballplayer, baseball player                       : 3.65%\n",
            "bearskin, busby, shako                            : 1.60%\n",
            "military uniform                                  : 0.76%\n",
            "trombone                                          : 0.75%\n"
          ]
        }
      ]
    },
    {
      "cell_type": "code",
      "source": [
        "/content/candle/candle-examples/examples/yolo-v8/assets/bike.jpg"
      ],
      "metadata": {
        "id": "oOinCGZo-Zqs"
      },
      "execution_count": null,
      "outputs": []
    },
    {
      "cell_type": "code",
      "source": [
        "%cd /content/candle/candle-examples/examples\n",
        "!cargo run --example phi --release -- --model 2 \\\n",
        "  --prompt \"A skier slides down a frictionless slope of height 40m and length 80m. What's the skier speed at the bottom?\"\n",
        "\n",
        "/content/candle/candle-transformers/tests/generation_tests.rs"
      ],
      "metadata": {
        "id": "cWNYR-BgAbcF"
      },
      "execution_count": null,
      "outputs": []
    },
    {
      "cell_type": "code",
      "source": [
        "%cd /content/candle/candle-transformers\n",
        "!cargo run -- --tests generation_tests --release -- --model 2 \\\n",
        "  --prompt \"A skier slides down a frictionless slope of height 40m and length 80m. What's the skier speed at the bottom?\"\n"
      ],
      "metadata": {
        "colab": {
          "base_uri": "https://localhost:8080/"
        },
        "id": "L61WA9obAbYU",
        "outputId": "0526f45c-587c-4a46-ff08-6ebe35fe09e7"
      },
      "execution_count": 20,
      "outputs": [
        {
          "output_type": "stream",
          "name": "stdout",
          "text": [
            "/content/candle/candle-transformers\n",
            "\u001b[1m\u001b[31merror\u001b[0m\u001b[1m:\u001b[0m a bin target must be available for `cargo run`\n"
          ]
        }
      ]
    },
    {
      "cell_type": "code",
      "source": [],
      "metadata": {
        "id": "8wy-abq5A3DM"
      },
      "execution_count": null,
      "outputs": []
    },
    {
      "source": [
        "%cd /content/candle/candle-transformers\n",
        "!cargo test --test generation_tests --release -- --model 2 --prompt \"A skier slides down a frictionless slope of height 40m and length 80m. What's the skier speed at the bottom?\""
      ],
      "cell_type": "code",
      "metadata": {
        "id": "ZpMwG-FjBHz8"
      },
      "execution_count": null,
      "outputs": []
    },
    {
      "source": [
        "!cargo test --test generation_tests --release -- --model 2 --prompt \"A skier slides down a frictionless slope of height 40m and length 80m. What's the skier speed at the bottom?\""
      ],
      "cell_type": "code",
      "metadata": {
        "colab": {
          "base_uri": "https://localhost:8080/"
        },
        "id": "PlIRj-DKBDbU",
        "outputId": "2dc29251-b0c1-4489-b10f-9bd4fde7d140"
      },
      "execution_count": 21,
      "outputs": [
        {
          "output_type": "stream",
          "name": "stdout",
          "text": [
            "\u001b[1m\u001b[32m   Compiling\u001b[0m bytemuck v1.23.0\n",
            "\u001b[1m\u001b[32m   Compiling\u001b[0m either v1.15.0\n",
            "\u001b[1m\u001b[32m   Compiling\u001b[0m rayon v1.10.0\n",
            "\u001b[1m\u001b[32m   Compiling\u001b[0m num-complex v0.4.6\n",
            "\u001b[1m\u001b[32m   Compiling\u001b[0m half v2.6.0\n",
            "\u001b[1m\u001b[32m   Compiling\u001b[0m pulp v0.21.5\n",
            "\u001b[1m\u001b[32m   Compiling\u001b[0m dyn-stack v0.13.0\n",
            "\u001b[1m\u001b[32m   Compiling\u001b[0m pulp v0.18.22\n",
            "\u001b[1m\u001b[32m   Compiling\u001b[0m gemm-common v0.18.2\n",
            "\u001b[1m\u001b[32m   Compiling\u001b[0m dyn-stack v0.10.0\n",
            "\u001b[1m\u001b[32m   Compiling\u001b[0m gemm-common v0.17.1\n",
            "\u001b[1m\u001b[32m   Compiling\u001b[0m memchr v2.7.4\n",
            "\u001b[1m\u001b[32m   Compiling\u001b[0m gemm-f32 v0.18.2\n",
            "\u001b[1m\u001b[32m   Compiling\u001b[0m serde_json v1.0.140\n",
            "\u001b[1m\u001b[32m   Compiling\u001b[0m gemm-f16 v0.18.2\n",
            "\u001b[1m\u001b[32m   Compiling\u001b[0m gemm-f32 v0.17.1\n",
            "\u001b[1m\u001b[32m   Compiling\u001b[0m gemm-c32 v0.18.2\n",
            "\u001b[1m\u001b[32m   Compiling\u001b[0m gemm-c64 v0.18.2\n",
            "\u001b[1m\u001b[32m   Compiling\u001b[0m gemm-f64 v0.18.2\n",
            "\u001b[1m\u001b[32m   Compiling\u001b[0m tracing-core v0.1.33\n",
            "\u001b[1m\u001b[32m   Compiling\u001b[0m tracing v0.1.41\n",
            "\u001b[1m\u001b[32m   Compiling\u001b[0m gemm v0.18.2\n",
            "\u001b[1m\u001b[32m   Compiling\u001b[0m gemm-f16 v0.17.1\n",
            "\u001b[1m\u001b[32m   Compiling\u001b[0m num v0.4.3\n",
            "\u001b[1m\u001b[32m   Compiling\u001b[0m safetensors v0.4.5\n",
            "\u001b[1m\u001b[32m   Compiling\u001b[0m gemm-c32 v0.17.1\n",
            "\u001b[1m\u001b[32m   Compiling\u001b[0m gemm-f64 v0.17.1\n",
            "\u001b[1m\u001b[32m   Compiling\u001b[0m gemm-c64 v0.17.1\n",
            "\u001b[1m\u001b[32m   Compiling\u001b[0m ug v0.4.0\n",
            "\u001b[1m\u001b[32m   Compiling\u001b[0m gemm v0.17.1\n",
            "\u001b[1m\u001b[32m   Compiling\u001b[0m aho-corasick v1.1.3\n",
            "\u001b[1m\u001b[32m   Compiling\u001b[0m regex-syntax v0.8.5\n",
            "\u001b[1m\u001b[32m   Compiling\u001b[0m candle-core v0.9.1 (/content/candle/candle-core)\n",
            "\u001b[1m\u001b[32m   Compiling\u001b[0m regex-automata v0.4.9\n",
            "\u001b[1m\u001b[32m   Compiling\u001b[0m fancy-regex v0.13.0\n",
            "\u001b[1m\u001b[32m   Compiling\u001b[0m candle-nn v0.9.1 (/content/candle/candle-nn)\n",
            "\u001b[1m\u001b[32m   Compiling\u001b[0m candle-transformers v0.9.1 (/content/candle/candle-transformers)\n",
            "\u001b[1m\u001b[32m    Finished\u001b[0m `release` profile [optimized] target(s) in 5m 50s\n",
            "\u001b[1m\u001b[32m     Running\u001b[0m tests/generation_tests.rs (/content/candle/target/release/deps/generation_tests-bbed9e1180fd543a)\n",
            "error: Unrecognized option: 'model'\n",
            "\u001b[1m\u001b[31merror\u001b[0m\u001b[1m:\u001b[0m test failed, to rerun pass `--test generation_tests`\n"
          ]
        }
      ]
    },
    {
      "source": [
        "%cd /content/candle/candle-transformers\n",
        "!cargo test --test generation_tests --release"
      ],
      "cell_type": "code",
      "metadata": {
        "colab": {
          "base_uri": "https://localhost:8080/"
        },
        "id": "h8brVFTtCskO",
        "outputId": "b2698d31-d682-4dcd-d5a1-ce8b2d77ae1c"
      },
      "execution_count": 22,
      "outputs": [
        {
          "output_type": "stream",
          "name": "stdout",
          "text": [
            "/content/candle/candle-transformers\n",
            "\u001b[1m\u001b[32m    Finished\u001b[0m `release` profile [optimized] target(s) in 0.65s\n",
            "\u001b[1m\u001b[32m     Running\u001b[0m tests/generation_tests.rs (/content/candle/target/release/deps/generation_tests-bbed9e1180fd543a)\n",
            "\n",
            "running 5 tests\n",
            "test sample_with_temperature ... \u001b[32mok\u001b[m\n",
            "test sample_with_top_k ... \u001b[32mok\u001b[m\n",
            "test sample_with_top_p ... \u001b[32mok\u001b[m\n",
            "test sample_with_zero_temperature ... \u001b[32mok\u001b[m\n",
            "test sample_gumbel ... \u001b[32mok\u001b[m\n",
            "\n",
            "test result: \u001b[32mok\u001b[m. 5 passed; 0 failed; 0 ignored; 0 measured; 0 filtered out; finished in 0.40s\n",
            "\n"
          ]
        }
      ]
    },
    {
      "cell_type": "markdown",
      "source": [
        "الناتج الذي ظهر لك يعني أنك قمت بتشغيل ملف الاختبارات generation_tests.rs بنجاح بعد اتباع الخطوات التي تم ذكرها سابقاً.\n",
        "\n",
        "دعنا نشرح كل سطر من الناتج:\n",
        "\n",
        "Finished release profile [optimized] target(s) in 0.65s:\n",
        "\n",
        "هذا السطر يخبرك أن عملية بناء ملفات الكود اللازمة للتشغيل (\"release profile\") تمت بنجاح في 0.65 ثانية.\n",
        "كلمة \"optimized\" تعني أن الملفات تم بناؤها بأفضل أداء ممكن.\n",
        "Running tests/generation_tests.rs (...):\n",
        "\n",
        "هذا السطر يوضح لك مسار ملف الاختبارات الذي تم تشغيله.\n",
        "running 5 tests:\n",
        "\n",
        "هذا السطر يخبرك أن ملف الاختبارات generation_tests.rs يحتوي على 5 اختبارات مختلفة، وتم تشغيلهم جميعاً.\n",
        "test sample_with_temperature ... ok:\n",
        "\n",
        "كل سطر يبدأ ب \"test\" يمثل اختبار محدد ضمن الملف.\n",
        "كلمة \"ok\" تعني أن الاختبار تم اجتيازه بنجاح.\n",
        "test result: ok. 5 passed; 0 failed; 0 ignored; 0 measured; 0 filtered out; finished in 0.40s:\n",
        "\n",
        "هذا السطر هو ملخص لنتائج تشغيل جميع الاختبارات.\n",
        "5 passed: يعني أن جميع الاختبارات الخمسة تم اجتيازها بنجاح.\n",
        "0 failed: يعني أنه لم يحدث أي فشل في أي من الاختبارات.\n",
        "0 ignored: يعني أنه لم يتم تجاهل أي من الاختبارات.\n",
        "finished in 0.40s: يعني أن جميع الاختبارات تم تشغيلها في 0.40 ثانية.\n",
        "بإختصار:\n",
        "\n",
        "تم بناء الملفات اللازمة للتشغيل، ثم تم تشغيل جميع الاختبارات الخمسة بنجاح وبدون أي مشاكل في أقل من ثانية. هذا يؤكد أن ملف الاختبارات generation_tests.rs يعمل بشكل سليم.\n",
        "\n",
        "Rate this answer\n"
      ],
      "metadata": {
        "id": "mmowuS3CC7BY"
      }
    },
    {
      "cell_type": "code",
      "source": [],
      "metadata": {
        "id": "XQORWKeFC71G"
      },
      "execution_count": null,
      "outputs": []
    }
  ]
}